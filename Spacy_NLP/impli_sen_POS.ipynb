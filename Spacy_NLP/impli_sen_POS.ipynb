{
 "cells": [
  {
   "cell_type": "code",
   "execution_count": 1,
   "id": "fe61332e-2fd9-4cbb-a1be-ac65ece88779",
   "metadata": {
    "scrolled": true
   },
   "outputs": [
    {
     "name": "stderr",
     "output_type": "stream",
     "text": [
      "[nltk_data] Downloading package punkt to /home/hygumm/nltk_data...\n",
      "[nltk_data]   Package punkt is already up-to-date!\n",
      "[nltk_data] Downloading package averaged_perceptron_tagger to\n",
      "[nltk_data]     /home/hygumm/nltk_data...\n",
      "[nltk_data]   Unzipping taggers/averaged_perceptron_tagger.zip.\n"
     ]
    },
    {
     "data": {
      "text/plain": [
       "True"
      ]
     },
     "execution_count": 1,
     "metadata": {},
     "output_type": "execute_result"
    }
   ],
   "source": [
    "import pandas as pd\n",
    "import nltk\n",
    "from nltk.tokenize import word_tokenize\n",
    "\n",
    "nltk.download('punkt')\n",
    "nltk.download('averaged_perceptron_tagger')"
   ]
  },
  {
   "cell_type": "code",
   "execution_count": 2,
   "id": "8a88aa98-a554-4b72-9b47-0958ccf08859",
   "metadata": {},
   "outputs": [],
   "source": [
    "df = pd.read_csv('implicit_sentences.csv')"
   ]
  },
  {
   "cell_type": "code",
   "execution_count": 4,
   "id": "1a0a8ff5-3ddb-44ba-92bc-e5bfb4b1a883",
   "metadata": {},
   "outputs": [],
   "source": [
    "df=df[['sentence']]"
   ]
  },
  {
   "cell_type": "code",
   "execution_count": 5,
   "id": "8d052ea7-b3ff-48df-8830-adb15b048fcf",
   "metadata": {
    "scrolled": true
   },
   "outputs": [
    {
     "data": {
      "text/html": [
       "<div>\n",
       "<style scoped>\n",
       "    .dataframe tbody tr th:only-of-type {\n",
       "        vertical-align: middle;\n",
       "    }\n",
       "\n",
       "    .dataframe tbody tr th {\n",
       "        vertical-align: top;\n",
       "    }\n",
       "\n",
       "    .dataframe thead th {\n",
       "        text-align: right;\n",
       "    }\n",
       "</style>\n",
       "<table border=\"1\" class=\"dataframe\">\n",
       "  <thead>\n",
       "    <tr style=\"text-align: right;\">\n",
       "      <th></th>\n",
       "      <th>sentence</th>\n",
       "    </tr>\n",
       "  </thead>\n",
       "  <tbody>\n",
       "    <tr>\n",
       "      <th>0</th>\n",
       "      <td>If the appendix has ruptured and a tumor is p...</td>\n",
       "    </tr>\n",
       "    <tr>\n",
       "      <th>1</th>\n",
       "      <td>In the last 20 years however many systems hav...</td>\n",
       "    </tr>\n",
       "    <tr>\n",
       "      <th>2</th>\n",
       "      <td>Neutropenia that is developed in response to ...</td>\n",
       "    </tr>\n",
       "    <tr>\n",
       "      <th>3</th>\n",
       "      <td>In modern candles , the wick is constructed s...</td>\n",
       "    </tr>\n",
       "    <tr>\n",
       "      <th>4</th>\n",
       "      <td>While no correlation between race and the lev...</td>\n",
       "    </tr>\n",
       "  </tbody>\n",
       "</table>\n",
       "</div>"
      ],
      "text/plain": [
       "                                            sentence\n",
       "0   If the appendix has ruptured and a tumor is p...\n",
       "1   In the last 20 years however many systems hav...\n",
       "2   Neutropenia that is developed in response to ...\n",
       "3   In modern candles , the wick is constructed s...\n",
       "4   While no correlation between race and the lev..."
      ]
     },
     "execution_count": 5,
     "metadata": {},
     "output_type": "execute_result"
    }
   ],
   "source": [
    "df.head(5)"
   ]
  },
  {
   "cell_type": "code",
   "execution_count": 6,
   "id": "aff98bdd-66ad-4fa9-9546-f98661a5e102",
   "metadata": {},
   "outputs": [],
   "source": [
    "def pos_tagging(sentence):\n",
    "    tokens = word_tokenize(sentence)\n",
    "    pos_tags = nltk.pos_tag(tokens)\n",
    "    return pos_tags\n",
    "\n",
    "df['POS_tags'] = df['sentence'].apply(pos_tagging)"
   ]
  },
  {
   "cell_type": "code",
   "execution_count": 7,
   "id": "141ab6cf-7664-4434-ac38-494328db349f",
   "metadata": {
    "scrolled": true
   },
   "outputs": [
    {
     "data": {
      "text/html": [
       "<div>\n",
       "<style scoped>\n",
       "    .dataframe tbody tr th:only-of-type {\n",
       "        vertical-align: middle;\n",
       "    }\n",
       "\n",
       "    .dataframe tbody tr th {\n",
       "        vertical-align: top;\n",
       "    }\n",
       "\n",
       "    .dataframe thead th {\n",
       "        text-align: right;\n",
       "    }\n",
       "</style>\n",
       "<table border=\"1\" class=\"dataframe\">\n",
       "  <thead>\n",
       "    <tr style=\"text-align: right;\">\n",
       "      <th></th>\n",
       "      <th>sentence</th>\n",
       "      <th>POS_tags</th>\n",
       "    </tr>\n",
       "  </thead>\n",
       "  <tbody>\n",
       "    <tr>\n",
       "      <th>0</th>\n",
       "      <td>If the appendix has ruptured and a tumor is p...</td>\n",
       "      <td>[(If, IN), (the, DT), (appendix, NN), (has, VB...</td>\n",
       "    </tr>\n",
       "    <tr>\n",
       "      <th>1</th>\n",
       "      <td>In the last 20 years however many systems hav...</td>\n",
       "      <td>[(In, IN), (the, DT), (last, JJ), (20, CD), (y...</td>\n",
       "    </tr>\n",
       "    <tr>\n",
       "      <th>2</th>\n",
       "      <td>Neutropenia that is developed in response to ...</td>\n",
       "      <td>[(Neutropenia, NNP), (that, WDT), (is, VBZ), (...</td>\n",
       "    </tr>\n",
       "    <tr>\n",
       "      <th>3</th>\n",
       "      <td>In modern candles , the wick is constructed s...</td>\n",
       "      <td>[(In, IN), (modern, JJ), (candles, NNS), (,, ,...</td>\n",
       "    </tr>\n",
       "    <tr>\n",
       "      <th>4</th>\n",
       "      <td>While no correlation between race and the lev...</td>\n",
       "      <td>[(While, IN), (no, DT), (correlation, NN), (be...</td>\n",
       "    </tr>\n",
       "    <tr>\n",
       "      <th>...</th>\n",
       "      <td>...</td>\n",
       "      <td>...</td>\n",
       "    </tr>\n",
       "    <tr>\n",
       "      <th>1470</th>\n",
       "      <td>From the 1920s through to the 1950s , x - ray...</td>\n",
       "      <td>[(From, IN), (the, DT), (1920s, CD), (through,...</td>\n",
       "    </tr>\n",
       "    <tr>\n",
       "      <th>1471</th>\n",
       "      <td>Contrary to popular belief , nails do not con...</td>\n",
       "      <td>[(Contrary, JJ), (to, TO), (popular, JJ), (bel...</td>\n",
       "    </tr>\n",
       "    <tr>\n",
       "      <th>1472</th>\n",
       "      <td>Contraction was then explained as the reshapi...</td>\n",
       "      <td>[(Contraction, NN), (was, VBD), (then, RB), (e...</td>\n",
       "    </tr>\n",
       "    <tr>\n",
       "      <th>1473</th>\n",
       "      <td>The Linda Hall Library has digitized Two copi...</td>\n",
       "      <td>[(The, DT), (Linda, NNP), (Hall, NNP), (Librar...</td>\n",
       "    </tr>\n",
       "    <tr>\n",
       "      <th>1474</th>\n",
       "      <td>the methyl group , carried by S - adenosylmet...</td>\n",
       "      <td>[(the, DT), (methyl, NN), (group, NN), (,, ,),...</td>\n",
       "    </tr>\n",
       "  </tbody>\n",
       "</table>\n",
       "<p>1475 rows × 2 columns</p>\n",
       "</div>"
      ],
      "text/plain": [
       "                                               sentence  \\\n",
       "0      If the appendix has ruptured and a tumor is p...   \n",
       "1      In the last 20 years however many systems hav...   \n",
       "2      Neutropenia that is developed in response to ...   \n",
       "3      In modern candles , the wick is constructed s...   \n",
       "4      While no correlation between race and the lev...   \n",
       "...                                                 ...   \n",
       "1470   From the 1920s through to the 1950s , x - ray...   \n",
       "1471   Contrary to popular belief , nails do not con...   \n",
       "1472   Contraction was then explained as the reshapi...   \n",
       "1473   The Linda Hall Library has digitized Two copi...   \n",
       "1474   the methyl group , carried by S - adenosylmet...   \n",
       "\n",
       "                                               POS_tags  \n",
       "0     [(If, IN), (the, DT), (appendix, NN), (has, VB...  \n",
       "1     [(In, IN), (the, DT), (last, JJ), (20, CD), (y...  \n",
       "2     [(Neutropenia, NNP), (that, WDT), (is, VBZ), (...  \n",
       "3     [(In, IN), (modern, JJ), (candles, NNS), (,, ,...  \n",
       "4     [(While, IN), (no, DT), (correlation, NN), (be...  \n",
       "...                                                 ...  \n",
       "1470  [(From, IN), (the, DT), (1920s, CD), (through,...  \n",
       "1471  [(Contrary, JJ), (to, TO), (popular, JJ), (bel...  \n",
       "1472  [(Contraction, NN), (was, VBD), (then, RB), (e...  \n",
       "1473  [(The, DT), (Linda, NNP), (Hall, NNP), (Librar...  \n",
       "1474  [(the, DT), (methyl, NN), (group, NN), (,, ,),...  \n",
       "\n",
       "[1475 rows x 2 columns]"
      ]
     },
     "execution_count": 7,
     "metadata": {},
     "output_type": "execute_result"
    }
   ],
   "source": [
    "df"
   ]
  },
  {
   "cell_type": "code",
   "execution_count": 8,
   "id": "11054c6d-84c8-4a8b-ae90-454a68429fbb",
   "metadata": {
    "scrolled": true
   },
   "outputs": [
    {
     "data": {
      "text/plain": [
       "[('If', 'IN'),\n",
       " ('the', 'DT'),\n",
       " ('appendix', 'NN'),\n",
       " ('has', 'VBZ'),\n",
       " ('ruptured', 'VBN'),\n",
       " ('and', 'CC'),\n",
       " ('a', 'DT'),\n",
       " ('tumor', 'NN'),\n",
       " ('is', 'VBZ'),\n",
       " ('present', 'JJ'),\n",
       " (',', ','),\n",
       " ('this', 'DT'),\n",
       " ('presents', 'NNS'),\n",
       " ('challenges', 'VBZ'),\n",
       " (',', ','),\n",
       " ('especially', 'RB'),\n",
       " ('if', 'IN'),\n",
       " ('malignant', 'JJ'),\n",
       " ('cells', 'NNS'),\n",
       " ('have', 'VBP'),\n",
       " ('formed', 'VBN'),\n",
       " ('and', 'CC'),\n",
       " ('thus', 'RB'),\n",
       " ('spread', 'NN'),\n",
       " ('to', 'TO'),\n",
       " ('the', 'DT'),\n",
       " ('abdomen', 'NNS'),\n",
       " ('.', '.')]"
      ]
     },
     "execution_count": 8,
     "metadata": {},
     "output_type": "execute_result"
    }
   ],
   "source": [
    "df['POS_tags'][0]"
   ]
  },
  {
   "cell_type": "code",
   "execution_count": 40,
   "id": "69002f6c-1a95-4d7d-b390-d72fed2a2d80",
   "metadata": {
    "scrolled": true
   },
   "outputs": [],
   "source": [
    "#!pip install spacy"
   ]
  },
  {
   "cell_type": "code",
   "execution_count": 38,
   "id": "8ed4d859-1602-48ec-8d79-ebebae7312d1",
   "metadata": {},
   "outputs": [],
   "source": [
    "#!pip install en_core_web_sm"
   ]
  },
  {
   "cell_type": "code",
   "execution_count": 39,
   "id": "e7198454-0af9-4ad2-98a3-b8cb71fdbe7d",
   "metadata": {},
   "outputs": [],
   "source": [
    "#!python3 -m pip install --upgrade pip"
   ]
  },
  {
   "cell_type": "code",
   "execution_count": 49,
   "id": "ee3fb22c-6c01-4dfa-921a-fdec07432298",
   "metadata": {},
   "outputs": [],
   "source": [
    "#python -m spacy download en_core_web_sm"
   ]
  },
  {
   "cell_type": "code",
   "execution_count": 44,
   "id": "15d97eb3-c22a-4351-9377-54834a2431de",
   "metadata": {
    "scrolled": true
   },
   "outputs": [],
   "source": [
    "#!pip install -U spacy"
   ]
  },
  {
   "cell_type": "code",
   "execution_count": 48,
   "id": "659f403e-308a-497c-998b-ecb3d315a236",
   "metadata": {
    "scrolled": true
   },
   "outputs": [],
   "source": [
    "#!python -m spacy info"
   ]
  },
  {
   "cell_type": "code",
   "execution_count": 47,
   "id": "ed90e8c6-4be0-43c2-b1ca-077196db7ba2",
   "metadata": {
    "scrolled": true
   },
   "outputs": [],
   "source": [
    "#!python -m spacy download en_core_web_sm"
   ]
  },
  {
   "cell_type": "code",
   "execution_count": 51,
   "id": "8db1cce8-5f19-42e1-8790-932009833988",
   "metadata": {},
   "outputs": [],
   "source": [
    "import pandas as pd\n",
    "import spacy\n",
    "\n",
    "nlp = spacy.load(\"en_core_web_sm\")\n",
    "\n",
    "def pos_tagging(sentence):\n",
    "    doc = nlp(sentence)\n",
    "    pos_tags = [(token.text, token.pos_) for token in doc]\n",
    "    return pos_tags\n",
    "\n",
    "df['POS_tags_spaCy'] = df['sentence'].apply(pos_tagging)"
   ]
  },
  {
   "cell_type": "code",
   "execution_count": 52,
   "id": "4df4a674-7997-4187-b394-d924c7767652",
   "metadata": {
    "scrolled": true
   },
   "outputs": [
    {
     "data": {
      "text/html": [
       "<div>\n",
       "<style scoped>\n",
       "    .dataframe tbody tr th:only-of-type {\n",
       "        vertical-align: middle;\n",
       "    }\n",
       "\n",
       "    .dataframe tbody tr th {\n",
       "        vertical-align: top;\n",
       "    }\n",
       "\n",
       "    .dataframe thead th {\n",
       "        text-align: right;\n",
       "    }\n",
       "</style>\n",
       "<table border=\"1\" class=\"dataframe\">\n",
       "  <thead>\n",
       "    <tr style=\"text-align: right;\">\n",
       "      <th></th>\n",
       "      <th>sentence</th>\n",
       "      <th>POS_tags</th>\n",
       "      <th>POS_tags_spaCy</th>\n",
       "    </tr>\n",
       "  </thead>\n",
       "  <tbody>\n",
       "    <tr>\n",
       "      <th>0</th>\n",
       "      <td>If the appendix has ruptured and a tumor is p...</td>\n",
       "      <td>[(If, IN), (the, DT), (appendix, NN), (has, VB...</td>\n",
       "      <td>[( , SPACE), (If, SCONJ), (the, DET), (appendi...</td>\n",
       "    </tr>\n",
       "    <tr>\n",
       "      <th>1</th>\n",
       "      <td>In the last 20 years however many systems hav...</td>\n",
       "      <td>[(In, IN), (the, DT), (last, JJ), (20, CD), (y...</td>\n",
       "      <td>[( , SPACE), (In, ADP), (the, DET), (last, ADJ...</td>\n",
       "    </tr>\n",
       "    <tr>\n",
       "      <th>2</th>\n",
       "      <td>Neutropenia that is developed in response to ...</td>\n",
       "      <td>[(Neutropenia, NNP), (that, WDT), (is, VBZ), (...</td>\n",
       "      <td>[( , SPACE), (Neutropenia, PROPN), (that, PRON...</td>\n",
       "    </tr>\n",
       "    <tr>\n",
       "      <th>3</th>\n",
       "      <td>In modern candles , the wick is constructed s...</td>\n",
       "      <td>[(In, IN), (modern, JJ), (candles, NNS), (,, ,...</td>\n",
       "      <td>[( , SPACE), (In, ADP), (modern, ADJ), (candle...</td>\n",
       "    </tr>\n",
       "    <tr>\n",
       "      <th>4</th>\n",
       "      <td>While no correlation between race and the lev...</td>\n",
       "      <td>[(While, IN), (no, DT), (correlation, NN), (be...</td>\n",
       "      <td>[( , SPACE), (While, SCONJ), (no, DET), (corre...</td>\n",
       "    </tr>\n",
       "    <tr>\n",
       "      <th>...</th>\n",
       "      <td>...</td>\n",
       "      <td>...</td>\n",
       "      <td>...</td>\n",
       "    </tr>\n",
       "    <tr>\n",
       "      <th>1470</th>\n",
       "      <td>From the 1920s through to the 1950s , x - ray...</td>\n",
       "      <td>[(From, IN), (the, DT), (1920s, CD), (through,...</td>\n",
       "      <td>[( , SPACE), (From, ADP), (the, DET), (1920s, ...</td>\n",
       "    </tr>\n",
       "    <tr>\n",
       "      <th>1471</th>\n",
       "      <td>Contrary to popular belief , nails do not con...</td>\n",
       "      <td>[(Contrary, JJ), (to, TO), (popular, JJ), (bel...</td>\n",
       "      <td>[( , SPACE), (Contrary, ADJ), (to, ADP), (popu...</td>\n",
       "    </tr>\n",
       "    <tr>\n",
       "      <th>1472</th>\n",
       "      <td>Contraction was then explained as the reshapi...</td>\n",
       "      <td>[(Contraction, NN), (was, VBD), (then, RB), (e...</td>\n",
       "      <td>[( , SPACE), (Contraction, PROPN), (was, AUX),...</td>\n",
       "    </tr>\n",
       "    <tr>\n",
       "      <th>1473</th>\n",
       "      <td>The Linda Hall Library has digitized Two copi...</td>\n",
       "      <td>[(The, DT), (Linda, NNP), (Hall, NNP), (Librar...</td>\n",
       "      <td>[( , SPACE), (The, DET), (Linda, PROPN), (Hall...</td>\n",
       "    </tr>\n",
       "    <tr>\n",
       "      <th>1474</th>\n",
       "      <td>the methyl group , carried by S - adenosylmet...</td>\n",
       "      <td>[(the, DT), (methyl, NN), (group, NN), (,, ,),...</td>\n",
       "      <td>[( , SPACE), (the, DET), (methyl, NOUN), (grou...</td>\n",
       "    </tr>\n",
       "  </tbody>\n",
       "</table>\n",
       "<p>1475 rows × 3 columns</p>\n",
       "</div>"
      ],
      "text/plain": [
       "                                               sentence  \\\n",
       "0      If the appendix has ruptured and a tumor is p...   \n",
       "1      In the last 20 years however many systems hav...   \n",
       "2      Neutropenia that is developed in response to ...   \n",
       "3      In modern candles , the wick is constructed s...   \n",
       "4      While no correlation between race and the lev...   \n",
       "...                                                 ...   \n",
       "1470   From the 1920s through to the 1950s , x - ray...   \n",
       "1471   Contrary to popular belief , nails do not con...   \n",
       "1472   Contraction was then explained as the reshapi...   \n",
       "1473   The Linda Hall Library has digitized Two copi...   \n",
       "1474   the methyl group , carried by S - adenosylmet...   \n",
       "\n",
       "                                               POS_tags  \\\n",
       "0     [(If, IN), (the, DT), (appendix, NN), (has, VB...   \n",
       "1     [(In, IN), (the, DT), (last, JJ), (20, CD), (y...   \n",
       "2     [(Neutropenia, NNP), (that, WDT), (is, VBZ), (...   \n",
       "3     [(In, IN), (modern, JJ), (candles, NNS), (,, ,...   \n",
       "4     [(While, IN), (no, DT), (correlation, NN), (be...   \n",
       "...                                                 ...   \n",
       "1470  [(From, IN), (the, DT), (1920s, CD), (through,...   \n",
       "1471  [(Contrary, JJ), (to, TO), (popular, JJ), (bel...   \n",
       "1472  [(Contraction, NN), (was, VBD), (then, RB), (e...   \n",
       "1473  [(The, DT), (Linda, NNP), (Hall, NNP), (Librar...   \n",
       "1474  [(the, DT), (methyl, NN), (group, NN), (,, ,),...   \n",
       "\n",
       "                                         POS_tags_spaCy  \n",
       "0     [( , SPACE), (If, SCONJ), (the, DET), (appendi...  \n",
       "1     [( , SPACE), (In, ADP), (the, DET), (last, ADJ...  \n",
       "2     [( , SPACE), (Neutropenia, PROPN), (that, PRON...  \n",
       "3     [( , SPACE), (In, ADP), (modern, ADJ), (candle...  \n",
       "4     [( , SPACE), (While, SCONJ), (no, DET), (corre...  \n",
       "...                                                 ...  \n",
       "1470  [( , SPACE), (From, ADP), (the, DET), (1920s, ...  \n",
       "1471  [( , SPACE), (Contrary, ADJ), (to, ADP), (popu...  \n",
       "1472  [( , SPACE), (Contraction, PROPN), (was, AUX),...  \n",
       "1473  [( , SPACE), (The, DET), (Linda, PROPN), (Hall...  \n",
       "1474  [( , SPACE), (the, DET), (methyl, NOUN), (grou...  \n",
       "\n",
       "[1475 rows x 3 columns]"
      ]
     },
     "execution_count": 52,
     "metadata": {},
     "output_type": "execute_result"
    }
   ],
   "source": [
    "df"
   ]
  },
  {
   "cell_type": "code",
   "execution_count": 53,
   "id": "2c52a032-5205-4bc9-9ba5-f82687eeaac7",
   "metadata": {
    "scrolled": true
   },
   "outputs": [
    {
     "data": {
      "text/plain": [
       "[(' ', 'SPACE'),\n",
       " ('If', 'SCONJ'),\n",
       " ('the', 'DET'),\n",
       " ('appendix', 'PROPN'),\n",
       " ('has', 'AUX'),\n",
       " ('ruptured', 'VERB'),\n",
       " ('and', 'CCONJ'),\n",
       " ('a', 'DET'),\n",
       " ('tumor', 'NOUN'),\n",
       " ('is', 'AUX'),\n",
       " ('present', 'ADJ'),\n",
       " (',', 'PUNCT'),\n",
       " ('this', 'PRON'),\n",
       " ('presents', 'VERB'),\n",
       " ('challenges', 'NOUN'),\n",
       " (',', 'PUNCT'),\n",
       " ('especially', 'ADV'),\n",
       " ('if', 'SCONJ'),\n",
       " ('malignant', 'ADJ'),\n",
       " ('cells', 'NOUN'),\n",
       " ('have', 'AUX'),\n",
       " ('formed', 'VERB'),\n",
       " ('and', 'CCONJ'),\n",
       " ('thus', 'ADV'),\n",
       " ('spread', 'VERB'),\n",
       " ('to', 'ADP'),\n",
       " ('the', 'DET'),\n",
       " ('abdomen', 'NOUN'),\n",
       " ('.', 'PUNCT')]"
      ]
     },
     "execution_count": 53,
     "metadata": {},
     "output_type": "execute_result"
    }
   ],
   "source": [
    "df['POS_tags_spaCy'][0]"
   ]
  },
  {
   "cell_type": "code",
   "execution_count": 54,
   "id": "b58d04f2-168c-48bf-bcf1-013852dd9f16",
   "metadata": {
    "scrolled": true
   },
   "outputs": [
    {
     "data": {
      "text/plain": [
       "[(' ', 'SPACE'),\n",
       " ('If', 'SCONJ'),\n",
       " ('the', 'DET'),\n",
       " ('appendix', 'PROPN'),\n",
       " ('has', 'AUX'),\n",
       " ('ruptured', 'VERB'),\n",
       " ('and', 'CCONJ'),\n",
       " ('a', 'DET'),\n",
       " ('tumor', 'NOUN'),\n",
       " ('is', 'AUX'),\n",
       " ('present', 'ADJ'),\n",
       " (',', 'PUNCT'),\n",
       " ('this', 'PRON'),\n",
       " ('presents', 'VERB'),\n",
       " ('challenges', 'NOUN'),\n",
       " (',', 'PUNCT'),\n",
       " ('especially', 'ADV'),\n",
       " ('if', 'SCONJ'),\n",
       " ('malignant', 'ADJ'),\n",
       " ('cells', 'NOUN'),\n",
       " ('have', 'AUX'),\n",
       " ('formed', 'VERB'),\n",
       " ('and', 'CCONJ'),\n",
       " ('thus', 'ADV'),\n",
       " ('spread', 'VERB'),\n",
       " ('to', 'ADP'),\n",
       " ('the', 'DET'),\n",
       " ('abdomen', 'NOUN'),\n",
       " ('.', 'PUNCT')]"
      ]
     },
     "execution_count": 54,
     "metadata": {},
     "output_type": "execute_result"
    }
   ],
   "source": [
    "df['POS_tags_spaCy'][0]"
   ]
  },
  {
   "cell_type": "code",
   "execution_count": 56,
   "id": "1f16a125-1cc0-4e95-bc0b-b93526d187d6",
   "metadata": {},
   "outputs": [],
   "source": [
    "df=df[['POS_tags_spaCy']]"
   ]
  },
  {
   "cell_type": "code",
   "execution_count": 57,
   "id": "a926fc48-d4e3-4749-9886-b53496767913",
   "metadata": {},
   "outputs": [
    {
     "data": {
      "text/html": [
       "<div>\n",
       "<style scoped>\n",
       "    .dataframe tbody tr th:only-of-type {\n",
       "        vertical-align: middle;\n",
       "    }\n",
       "\n",
       "    .dataframe tbody tr th {\n",
       "        vertical-align: top;\n",
       "    }\n",
       "\n",
       "    .dataframe thead th {\n",
       "        text-align: right;\n",
       "    }\n",
       "</style>\n",
       "<table border=\"1\" class=\"dataframe\">\n",
       "  <thead>\n",
       "    <tr style=\"text-align: right;\">\n",
       "      <th></th>\n",
       "      <th>POS_tags_spaCy</th>\n",
       "    </tr>\n",
       "  </thead>\n",
       "  <tbody>\n",
       "    <tr>\n",
       "      <th>0</th>\n",
       "      <td>[( , SPACE), (If, SCONJ), (the, DET), (appendi...</td>\n",
       "    </tr>\n",
       "    <tr>\n",
       "      <th>1</th>\n",
       "      <td>[( , SPACE), (In, ADP), (the, DET), (last, ADJ...</td>\n",
       "    </tr>\n",
       "    <tr>\n",
       "      <th>2</th>\n",
       "      <td>[( , SPACE), (Neutropenia, PROPN), (that, PRON...</td>\n",
       "    </tr>\n",
       "    <tr>\n",
       "      <th>3</th>\n",
       "      <td>[( , SPACE), (In, ADP), (modern, ADJ), (candle...</td>\n",
       "    </tr>\n",
       "    <tr>\n",
       "      <th>4</th>\n",
       "      <td>[( , SPACE), (While, SCONJ), (no, DET), (corre...</td>\n",
       "    </tr>\n",
       "  </tbody>\n",
       "</table>\n",
       "</div>"
      ],
      "text/plain": [
       "                                      POS_tags_spaCy\n",
       "0  [( , SPACE), (If, SCONJ), (the, DET), (appendi...\n",
       "1  [( , SPACE), (In, ADP), (the, DET), (last, ADJ...\n",
       "2  [( , SPACE), (Neutropenia, PROPN), (that, PRON...\n",
       "3  [( , SPACE), (In, ADP), (modern, ADJ), (candle...\n",
       "4  [( , SPACE), (While, SCONJ), (no, DET), (corre..."
      ]
     },
     "execution_count": 57,
     "metadata": {},
     "output_type": "execute_result"
    }
   ],
   "source": [
    "df.head()"
   ]
  },
  {
   "cell_type": "code",
   "execution_count": 58,
   "id": "8f4f8611-c22e-4b9c-afc4-7e77a3a10b0d",
   "metadata": {},
   "outputs": [
    {
     "name": "stderr",
     "output_type": "stream",
     "text": [
      "/tmp/ipykernel_337045/3757687467.py:11: SettingWithCopyWarning: \n",
      "A value is trying to be set on a copy of a slice from a DataFrame.\n",
      "Try using .loc[row_indexer,col_indexer] = value instead\n",
      "\n",
      "See the caveats in the documentation: https://pandas.pydata.org/pandas-docs/stable/user_guide/indexing.html#returning-a-view-versus-a-copy\n",
      "  df[['Words', 'Verbs']] = df['POS_tags_spaCy'].apply(lambda x: pd.Series(extract_words_verbs(x)))\n"
     ]
    }
   ],
   "source": [
    "def extract_words_verbs(pos_tags):\n",
    "    words = []\n",
    "    verbs = []\n",
    "    for word, pos in pos_tags:\n",
    "        if pos == 'VERB':\n",
    "            verbs.append(word)\n",
    "        else:\n",
    "            words.append(word)\n",
    "    return words, verbs\n",
    "\n",
    "df[['Words', 'Verbs']] = df['POS_tags_spaCy'].apply(lambda x: pd.Series(extract_words_verbs(x)))"
   ]
  },
  {
   "cell_type": "code",
   "execution_count": 59,
   "id": "4289af2b-2863-4261-904a-71bba9c49ce9",
   "metadata": {},
   "outputs": [
    {
     "data": {
      "text/html": [
       "<div>\n",
       "<style scoped>\n",
       "    .dataframe tbody tr th:only-of-type {\n",
       "        vertical-align: middle;\n",
       "    }\n",
       "\n",
       "    .dataframe tbody tr th {\n",
       "        vertical-align: top;\n",
       "    }\n",
       "\n",
       "    .dataframe thead th {\n",
       "        text-align: right;\n",
       "    }\n",
       "</style>\n",
       "<table border=\"1\" class=\"dataframe\">\n",
       "  <thead>\n",
       "    <tr style=\"text-align: right;\">\n",
       "      <th></th>\n",
       "      <th>POS_tags_spaCy</th>\n",
       "      <th>Words</th>\n",
       "      <th>Verbs</th>\n",
       "    </tr>\n",
       "  </thead>\n",
       "  <tbody>\n",
       "    <tr>\n",
       "      <th>0</th>\n",
       "      <td>[( , SPACE), (If, SCONJ), (the, DET), (appendi...</td>\n",
       "      <td>[ , If, the, appendix, has, and, a, tumor, is,...</td>\n",
       "      <td>[ruptured, presents, formed, spread]</td>\n",
       "    </tr>\n",
       "    <tr>\n",
       "      <th>1</th>\n",
       "      <td>[( , SPACE), (In, ADP), (the, DET), (last, ADJ...</td>\n",
       "      <td>[ , In, the, last, 20, years, however, many, s...</td>\n",
       "      <td>[developed, study, albicans]</td>\n",
       "    </tr>\n",
       "    <tr>\n",
       "      <th>2</th>\n",
       "      <td>[( , SPACE), (Neutropenia, PROPN), (that, PRON...</td>\n",
       "      <td>[ , Neutropenia, that, is, in, response, to, c...</td>\n",
       "      <td>[developed, becomes]</td>\n",
       "    </tr>\n",
       "    <tr>\n",
       "      <th>3</th>\n",
       "      <td>[( , SPACE), (In, ADP), (modern, ADJ), (candle...</td>\n",
       "      <td>[ , In, modern, candles, ,, the, wick, is, so,...</td>\n",
       "      <td>[constructed, curves, burns]</td>\n",
       "    </tr>\n",
       "    <tr>\n",
       "      <th>4</th>\n",
       "      <td>[( , SPACE), (While, SCONJ), (no, DET), (corre...</td>\n",
       "      <td>[ , While, no, correlation, between, race, and...</td>\n",
       "      <td>[reported, suggest, serve, protect]</td>\n",
       "    </tr>\n",
       "    <tr>\n",
       "      <th>...</th>\n",
       "      <td>...</td>\n",
       "      <td>...</td>\n",
       "      <td>...</td>\n",
       "    </tr>\n",
       "    <tr>\n",
       "      <th>1470</th>\n",
       "      <td>[( , SPACE), (From, ADP), (the, DET), (1920s, ...</td>\n",
       "      <td>[ , From, the, 1920s, through, to, the, 1950s,...</td>\n",
       "      <td>[developed, assist, sold]</td>\n",
       "    </tr>\n",
       "    <tr>\n",
       "      <th>1471</th>\n",
       "      <td>[( , SPACE), (Contrary, ADJ), (to, ADP), (popu...</td>\n",
       "      <td>[ , Contrary, to, popular, belief, ,, nails, d...</td>\n",
       "      <td>[continue, grow, dehydrates, making, appear, g...</td>\n",
       "    </tr>\n",
       "    <tr>\n",
       "      <th>1472</th>\n",
       "      <td>[( , SPACE), (Contraction, PROPN), (was, AUX),...</td>\n",
       "      <td>[ , Contraction, was, then, as, the, reshaping...</td>\n",
       "      <td>[explained, shorten, lengthen, changed, fixed,...</td>\n",
       "    </tr>\n",
       "    <tr>\n",
       "      <th>1473</th>\n",
       "      <td>[( , SPACE), (The, DET), (Linda, PROPN), (Hall...</td>\n",
       "      <td>[ , The, Linda, Hall, Library, has, Two, copie...</td>\n",
       "      <td>[digitized, owned, marked, earing, acted]</td>\n",
       "    </tr>\n",
       "    <tr>\n",
       "      <th>1474</th>\n",
       "      <td>[( , SPACE), (the, DET), (methyl, NOUN), (grou...</td>\n",
       "      <td>[ , the, methyl, group, ,, by, S, -, adenosylm...</td>\n",
       "      <td>[carried, changed, consider]</td>\n",
       "    </tr>\n",
       "  </tbody>\n",
       "</table>\n",
       "<p>1475 rows × 3 columns</p>\n",
       "</div>"
      ],
      "text/plain": [
       "                                         POS_tags_spaCy  \\\n",
       "0     [( , SPACE), (If, SCONJ), (the, DET), (appendi...   \n",
       "1     [( , SPACE), (In, ADP), (the, DET), (last, ADJ...   \n",
       "2     [( , SPACE), (Neutropenia, PROPN), (that, PRON...   \n",
       "3     [( , SPACE), (In, ADP), (modern, ADJ), (candle...   \n",
       "4     [( , SPACE), (While, SCONJ), (no, DET), (corre...   \n",
       "...                                                 ...   \n",
       "1470  [( , SPACE), (From, ADP), (the, DET), (1920s, ...   \n",
       "1471  [( , SPACE), (Contrary, ADJ), (to, ADP), (popu...   \n",
       "1472  [( , SPACE), (Contraction, PROPN), (was, AUX),...   \n",
       "1473  [( , SPACE), (The, DET), (Linda, PROPN), (Hall...   \n",
       "1474  [( , SPACE), (the, DET), (methyl, NOUN), (grou...   \n",
       "\n",
       "                                                  Words  \\\n",
       "0     [ , If, the, appendix, has, and, a, tumor, is,...   \n",
       "1     [ , In, the, last, 20, years, however, many, s...   \n",
       "2     [ , Neutropenia, that, is, in, response, to, c...   \n",
       "3     [ , In, modern, candles, ,, the, wick, is, so,...   \n",
       "4     [ , While, no, correlation, between, race, and...   \n",
       "...                                                 ...   \n",
       "1470  [ , From, the, 1920s, through, to, the, 1950s,...   \n",
       "1471  [ , Contrary, to, popular, belief, ,, nails, d...   \n",
       "1472  [ , Contraction, was, then, as, the, reshaping...   \n",
       "1473  [ , The, Linda, Hall, Library, has, Two, copie...   \n",
       "1474  [ , the, methyl, group, ,, by, S, -, adenosylm...   \n",
       "\n",
       "                                                  Verbs  \n",
       "0                  [ruptured, presents, formed, spread]  \n",
       "1                          [developed, study, albicans]  \n",
       "2                                  [developed, becomes]  \n",
       "3                          [constructed, curves, burns]  \n",
       "4                   [reported, suggest, serve, protect]  \n",
       "...                                                 ...  \n",
       "1470                          [developed, assist, sold]  \n",
       "1471  [continue, grow, dehydrates, making, appear, g...  \n",
       "1472  [explained, shorten, lengthen, changed, fixed,...  \n",
       "1473          [digitized, owned, marked, earing, acted]  \n",
       "1474                       [carried, changed, consider]  \n",
       "\n",
       "[1475 rows x 3 columns]"
      ]
     },
     "execution_count": 59,
     "metadata": {},
     "output_type": "execute_result"
    }
   ],
   "source": [
    "df"
   ]
  },
  {
   "cell_type": "code",
   "execution_count": 60,
   "id": "4441cab2-3815-4364-bd35-e12c4823f055",
   "metadata": {},
   "outputs": [],
   "source": [
    "df=df[['POS_tags_spaCy','Verbs']]"
   ]
  },
  {
   "cell_type": "code",
   "execution_count": 61,
   "id": "8af56180-428d-4868-af90-c72c5661a219",
   "metadata": {},
   "outputs": [
    {
     "data": {
      "text/html": [
       "<div>\n",
       "<style scoped>\n",
       "    .dataframe tbody tr th:only-of-type {\n",
       "        vertical-align: middle;\n",
       "    }\n",
       "\n",
       "    .dataframe tbody tr th {\n",
       "        vertical-align: top;\n",
       "    }\n",
       "\n",
       "    .dataframe thead th {\n",
       "        text-align: right;\n",
       "    }\n",
       "</style>\n",
       "<table border=\"1\" class=\"dataframe\">\n",
       "  <thead>\n",
       "    <tr style=\"text-align: right;\">\n",
       "      <th></th>\n",
       "      <th>POS_tags_spaCy</th>\n",
       "      <th>Verbs</th>\n",
       "    </tr>\n",
       "  </thead>\n",
       "  <tbody>\n",
       "    <tr>\n",
       "      <th>0</th>\n",
       "      <td>[( , SPACE), (If, SCONJ), (the, DET), (appendi...</td>\n",
       "      <td>[ruptured, presents, formed, spread]</td>\n",
       "    </tr>\n",
       "    <tr>\n",
       "      <th>1</th>\n",
       "      <td>[( , SPACE), (In, ADP), (the, DET), (last, ADJ...</td>\n",
       "      <td>[developed, study, albicans]</td>\n",
       "    </tr>\n",
       "    <tr>\n",
       "      <th>2</th>\n",
       "      <td>[( , SPACE), (Neutropenia, PROPN), (that, PRON...</td>\n",
       "      <td>[developed, becomes]</td>\n",
       "    </tr>\n",
       "    <tr>\n",
       "      <th>3</th>\n",
       "      <td>[( , SPACE), (In, ADP), (modern, ADJ), (candle...</td>\n",
       "      <td>[constructed, curves, burns]</td>\n",
       "    </tr>\n",
       "    <tr>\n",
       "      <th>4</th>\n",
       "      <td>[( , SPACE), (While, SCONJ), (no, DET), (corre...</td>\n",
       "      <td>[reported, suggest, serve, protect]</td>\n",
       "    </tr>\n",
       "    <tr>\n",
       "      <th>...</th>\n",
       "      <td>...</td>\n",
       "      <td>...</td>\n",
       "    </tr>\n",
       "    <tr>\n",
       "      <th>1470</th>\n",
       "      <td>[( , SPACE), (From, ADP), (the, DET), (1920s, ...</td>\n",
       "      <td>[developed, assist, sold]</td>\n",
       "    </tr>\n",
       "    <tr>\n",
       "      <th>1471</th>\n",
       "      <td>[( , SPACE), (Contrary, ADJ), (to, ADP), (popu...</td>\n",
       "      <td>[continue, grow, dehydrates, making, appear, g...</td>\n",
       "    </tr>\n",
       "    <tr>\n",
       "      <th>1472</th>\n",
       "      <td>[( , SPACE), (Contraction, PROPN), (was, AUX),...</td>\n",
       "      <td>[explained, shorten, lengthen, changed, fixed,...</td>\n",
       "    </tr>\n",
       "    <tr>\n",
       "      <th>1473</th>\n",
       "      <td>[( , SPACE), (The, DET), (Linda, PROPN), (Hall...</td>\n",
       "      <td>[digitized, owned, marked, earing, acted]</td>\n",
       "    </tr>\n",
       "    <tr>\n",
       "      <th>1474</th>\n",
       "      <td>[( , SPACE), (the, DET), (methyl, NOUN), (grou...</td>\n",
       "      <td>[carried, changed, consider]</td>\n",
       "    </tr>\n",
       "  </tbody>\n",
       "</table>\n",
       "<p>1475 rows × 2 columns</p>\n",
       "</div>"
      ],
      "text/plain": [
       "                                         POS_tags_spaCy  \\\n",
       "0     [( , SPACE), (If, SCONJ), (the, DET), (appendi...   \n",
       "1     [( , SPACE), (In, ADP), (the, DET), (last, ADJ...   \n",
       "2     [( , SPACE), (Neutropenia, PROPN), (that, PRON...   \n",
       "3     [( , SPACE), (In, ADP), (modern, ADJ), (candle...   \n",
       "4     [( , SPACE), (While, SCONJ), (no, DET), (corre...   \n",
       "...                                                 ...   \n",
       "1470  [( , SPACE), (From, ADP), (the, DET), (1920s, ...   \n",
       "1471  [( , SPACE), (Contrary, ADJ), (to, ADP), (popu...   \n",
       "1472  [( , SPACE), (Contraction, PROPN), (was, AUX),...   \n",
       "1473  [( , SPACE), (The, DET), (Linda, PROPN), (Hall...   \n",
       "1474  [( , SPACE), (the, DET), (methyl, NOUN), (grou...   \n",
       "\n",
       "                                                  Verbs  \n",
       "0                  [ruptured, presents, formed, spread]  \n",
       "1                          [developed, study, albicans]  \n",
       "2                                  [developed, becomes]  \n",
       "3                          [constructed, curves, burns]  \n",
       "4                   [reported, suggest, serve, protect]  \n",
       "...                                                 ...  \n",
       "1470                          [developed, assist, sold]  \n",
       "1471  [continue, grow, dehydrates, making, appear, g...  \n",
       "1472  [explained, shorten, lengthen, changed, fixed,...  \n",
       "1473          [digitized, owned, marked, earing, acted]  \n",
       "1474                       [carried, changed, consider]  \n",
       "\n",
       "[1475 rows x 2 columns]"
      ]
     },
     "execution_count": 61,
     "metadata": {},
     "output_type": "execute_result"
    }
   ],
   "source": [
    "df"
   ]
  },
  {
   "cell_type": "code",
   "execution_count": 64,
   "id": "154bd917-ab82-48d0-a76a-47d56debc303",
   "metadata": {},
   "outputs": [],
   "source": [
    "df.to_csv(\"implicit_pos_verbs.csv\", header=True)"
   ]
  },
  {
   "cell_type": "code",
   "execution_count": null,
   "id": "ac10c2ad-4a79-40f4-8421-dc43de03f479",
   "metadata": {},
   "outputs": [],
   "source": []
  }
 ],
 "metadata": {
  "kernelspec": {
   "display_name": "Python 3 (ipykernel)",
   "language": "python",
   "name": "python3"
  },
  "language_info": {
   "codemirror_mode": {
    "name": "ipython",
    "version": 3
   },
   "file_extension": ".py",
   "mimetype": "text/x-python",
   "name": "python",
   "nbconvert_exporter": "python",
   "pygments_lexer": "ipython3",
   "version": "3.10.12"
  }
 },
 "nbformat": 4,
 "nbformat_minor": 5
}
