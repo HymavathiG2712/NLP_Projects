{
  "nbformat": 4,
  "nbformat_minor": 0,
  "metadata": {
    "colab": {
      "provenance": []
    },
    "kernelspec": {
      "name": "python3",
      "display_name": "Python 3"
    },
    "language_info": {
      "name": "python"
    }
  },
  "cells": [
    {
      "cell_type": "code",
      "execution_count": 1,
      "metadata": {
        "id": "Xi824j61pzit"
      },
      "outputs": [],
      "source": [
        "# Importing the NLTK library\n",
        "import nltk\n",
        "from nltk.tokenize import word_tokenize #tokenize given text into words\n",
        "from nltk import pos_tag #performs parts of speech for all words"
      ]
    },
    {
      "cell_type": "code",
      "source": [
        "nltk.download('punkt')\n",
        "#The Punkt tokenizer is a pre-trained unsupervised machine learning model that NLTK uses for tokenization tasks like breaking text into words or sentences"
      ],
      "metadata": {
        "colab": {
          "base_uri": "https://localhost:8080/"
        },
        "id": "bFBVCFVLrRJ0",
        "outputId": "239f6c95-f4d3-4072-bd6e-c222bbe1de89"
      },
      "execution_count": 2,
      "outputs": [
        {
          "output_type": "stream",
          "name": "stderr",
          "text": [
            "[nltk_data] Downloading package punkt to /root/nltk_data...\n",
            "[nltk_data]   Package punkt is already up-to-date!\n"
          ]
        },
        {
          "output_type": "execute_result",
          "data": {
            "text/plain": [
              "True"
            ]
          },
          "metadata": {},
          "execution_count": 2
        }
      ]
    },
    {
      "cell_type": "code",
      "source": [
        "nltk.download('averaged_perceptron_tagger')\n",
        "#The averaged perceptron tagger is a machine learning-based model used for part-of-speech tagging,\n",
        "#which is the process of assigning grammatical categories\n",
        "#(such as noun, verb, adjective, etc.) to each word in a text based on its context and definition."
      ],
      "metadata": {
        "colab": {
          "base_uri": "https://localhost:8080/"
        },
        "id": "FyjUIkidrkBn",
        "outputId": "cb163eef-5646-43f3-e572-c74a2591f30c"
      },
      "execution_count": 3,
      "outputs": [
        {
          "output_type": "stream",
          "name": "stderr",
          "text": [
            "[nltk_data] Downloading package averaged_perceptron_tagger to\n",
            "[nltk_data]     /root/nltk_data...\n",
            "[nltk_data]   Package averaged_perceptron_tagger is already up-to-\n",
            "[nltk_data]       date!\n"
          ]
        },
        {
          "output_type": "execute_result",
          "data": {
            "text/plain": [
              "True"
            ]
          },
          "metadata": {},
          "execution_count": 3
        }
      ]
    },
    {
      "cell_type": "code",
      "source": [
        "from google.colab import drive"
      ],
      "metadata": {
        "id": "kY-N-jf1sOdW"
      },
      "execution_count": 4,
      "outputs": []
    },
    {
      "cell_type": "code",
      "source": [
        "drive.mount('/content/drive')"
      ],
      "metadata": {
        "colab": {
          "base_uri": "https://localhost:8080/"
        },
        "id": "jTqKfhuo6cVi",
        "outputId": "0be9a454-b9de-49ae-f990-2452a6351626"
      },
      "execution_count": 32,
      "outputs": [
        {
          "output_type": "stream",
          "name": "stdout",
          "text": [
            "Drive already mounted at /content/drive; to attempt to forcibly remount, call drive.mount(\"/content/drive\", force_remount=True).\n"
          ]
        }
      ]
    },
    {
      "cell_type": "code",
      "source": [
        "text = '/content/drive/My Drive/words_one.csv'"
      ],
      "metadata": {
        "id": "79NoyFUM6l2x"
      },
      "execution_count": 6,
      "outputs": []
    },
    {
      "cell_type": "code",
      "source": [
        "import pandas as pd\n",
        "df=pd.read_csv(text)"
      ],
      "metadata": {
        "id": "icvHtAWG62Rw"
      },
      "execution_count": 7,
      "outputs": []
    },
    {
      "cell_type": "code",
      "source": [
        "df"
      ],
      "metadata": {
        "colab": {
          "base_uri": "https://localhost:8080/",
          "height": 424
        },
        "id": "y3dXVoc763-u",
        "outputId": "690d34b4-f7ff-41bf-8c3f-f3d09ce34cbf"
      },
      "execution_count": 8,
      "outputs": [
        {
          "output_type": "execute_result",
          "data": {
            "text/plain": [
              "           words\n",
              "0     automobile\n",
              "1     number of \n",
              "2        induced\n",
              "3        vitamin\n",
              "4        insulin\n",
              "...          ...\n",
              "1385    activity\n",
              "1386     redness\n",
              "1387     because\n",
              "1388   cataracts\n",
              "1389         and\n",
              "\n",
              "[1390 rows x 1 columns]"
            ],
            "text/html": [
              "\n",
              "  <div id=\"df-5e1351fd-a1fd-4074-831b-832bef011d6c\" class=\"colab-df-container\">\n",
              "    <div>\n",
              "<style scoped>\n",
              "    .dataframe tbody tr th:only-of-type {\n",
              "        vertical-align: middle;\n",
              "    }\n",
              "\n",
              "    .dataframe tbody tr th {\n",
              "        vertical-align: top;\n",
              "    }\n",
              "\n",
              "    .dataframe thead th {\n",
              "        text-align: right;\n",
              "    }\n",
              "</style>\n",
              "<table border=\"1\" class=\"dataframe\">\n",
              "  <thead>\n",
              "    <tr style=\"text-align: right;\">\n",
              "      <th></th>\n",
              "      <th>words</th>\n",
              "    </tr>\n",
              "  </thead>\n",
              "  <tbody>\n",
              "    <tr>\n",
              "      <th>0</th>\n",
              "      <td>automobile</td>\n",
              "    </tr>\n",
              "    <tr>\n",
              "      <th>1</th>\n",
              "      <td>number of</td>\n",
              "    </tr>\n",
              "    <tr>\n",
              "      <th>2</th>\n",
              "      <td>induced</td>\n",
              "    </tr>\n",
              "    <tr>\n",
              "      <th>3</th>\n",
              "      <td>vitamin</td>\n",
              "    </tr>\n",
              "    <tr>\n",
              "      <th>4</th>\n",
              "      <td>insulin</td>\n",
              "    </tr>\n",
              "    <tr>\n",
              "      <th>...</th>\n",
              "      <td>...</td>\n",
              "    </tr>\n",
              "    <tr>\n",
              "      <th>1385</th>\n",
              "      <td>activity</td>\n",
              "    </tr>\n",
              "    <tr>\n",
              "      <th>1386</th>\n",
              "      <td>redness</td>\n",
              "    </tr>\n",
              "    <tr>\n",
              "      <th>1387</th>\n",
              "      <td>because</td>\n",
              "    </tr>\n",
              "    <tr>\n",
              "      <th>1388</th>\n",
              "      <td>cataracts</td>\n",
              "    </tr>\n",
              "    <tr>\n",
              "      <th>1389</th>\n",
              "      <td>and</td>\n",
              "    </tr>\n",
              "  </tbody>\n",
              "</table>\n",
              "<p>1390 rows × 1 columns</p>\n",
              "</div>\n",
              "    <div class=\"colab-df-buttons\">\n",
              "\n",
              "  <div class=\"colab-df-container\">\n",
              "    <button class=\"colab-df-convert\" onclick=\"convertToInteractive('df-5e1351fd-a1fd-4074-831b-832bef011d6c')\"\n",
              "            title=\"Convert this dataframe to an interactive table.\"\n",
              "            style=\"display:none;\">\n",
              "\n",
              "  <svg xmlns=\"http://www.w3.org/2000/svg\" height=\"24px\" viewBox=\"0 -960 960 960\">\n",
              "    <path d=\"M120-120v-720h720v720H120Zm60-500h600v-160H180v160Zm220 220h160v-160H400v160Zm0 220h160v-160H400v160ZM180-400h160v-160H180v160Zm440 0h160v-160H620v160ZM180-180h160v-160H180v160Zm440 0h160v-160H620v160Z\"/>\n",
              "  </svg>\n",
              "    </button>\n",
              "\n",
              "  <style>\n",
              "    .colab-df-container {\n",
              "      display:flex;\n",
              "      gap: 12px;\n",
              "    }\n",
              "\n",
              "    .colab-df-convert {\n",
              "      background-color: #E8F0FE;\n",
              "      border: none;\n",
              "      border-radius: 50%;\n",
              "      cursor: pointer;\n",
              "      display: none;\n",
              "      fill: #1967D2;\n",
              "      height: 32px;\n",
              "      padding: 0 0 0 0;\n",
              "      width: 32px;\n",
              "    }\n",
              "\n",
              "    .colab-df-convert:hover {\n",
              "      background-color: #E2EBFA;\n",
              "      box-shadow: 0px 1px 2px rgba(60, 64, 67, 0.3), 0px 1px 3px 1px rgba(60, 64, 67, 0.15);\n",
              "      fill: #174EA6;\n",
              "    }\n",
              "\n",
              "    .colab-df-buttons div {\n",
              "      margin-bottom: 4px;\n",
              "    }\n",
              "\n",
              "    [theme=dark] .colab-df-convert {\n",
              "      background-color: #3B4455;\n",
              "      fill: #D2E3FC;\n",
              "    }\n",
              "\n",
              "    [theme=dark] .colab-df-convert:hover {\n",
              "      background-color: #434B5C;\n",
              "      box-shadow: 0px 1px 3px 1px rgba(0, 0, 0, 0.15);\n",
              "      filter: drop-shadow(0px 1px 2px rgba(0, 0, 0, 0.3));\n",
              "      fill: #FFFFFF;\n",
              "    }\n",
              "  </style>\n",
              "\n",
              "    <script>\n",
              "      const buttonEl =\n",
              "        document.querySelector('#df-5e1351fd-a1fd-4074-831b-832bef011d6c button.colab-df-convert');\n",
              "      buttonEl.style.display =\n",
              "        google.colab.kernel.accessAllowed ? 'block' : 'none';\n",
              "\n",
              "      async function convertToInteractive(key) {\n",
              "        const element = document.querySelector('#df-5e1351fd-a1fd-4074-831b-832bef011d6c');\n",
              "        const dataTable =\n",
              "          await google.colab.kernel.invokeFunction('convertToInteractive',\n",
              "                                                    [key], {});\n",
              "        if (!dataTable) return;\n",
              "\n",
              "        const docLinkHtml = 'Like what you see? Visit the ' +\n",
              "          '<a target=\"_blank\" href=https://colab.research.google.com/notebooks/data_table.ipynb>data table notebook</a>'\n",
              "          + ' to learn more about interactive tables.';\n",
              "        element.innerHTML = '';\n",
              "        dataTable['output_type'] = 'display_data';\n",
              "        await google.colab.output.renderOutput(dataTable, element);\n",
              "        const docLink = document.createElement('div');\n",
              "        docLink.innerHTML = docLinkHtml;\n",
              "        element.appendChild(docLink);\n",
              "      }\n",
              "    </script>\n",
              "  </div>\n",
              "\n",
              "\n",
              "<div id=\"df-a39af746-b911-4188-98ac-4948ae4c16d2\">\n",
              "  <button class=\"colab-df-quickchart\" onclick=\"quickchart('df-a39af746-b911-4188-98ac-4948ae4c16d2')\"\n",
              "            title=\"Suggest charts\"\n",
              "            style=\"display:none;\">\n",
              "\n",
              "<svg xmlns=\"http://www.w3.org/2000/svg\" height=\"24px\"viewBox=\"0 0 24 24\"\n",
              "     width=\"24px\">\n",
              "    <g>\n",
              "        <path d=\"M19 3H5c-1.1 0-2 .9-2 2v14c0 1.1.9 2 2 2h14c1.1 0 2-.9 2-2V5c0-1.1-.9-2-2-2zM9 17H7v-7h2v7zm4 0h-2V7h2v10zm4 0h-2v-4h2v4z\"/>\n",
              "    </g>\n",
              "</svg>\n",
              "  </button>\n",
              "\n",
              "<style>\n",
              "  .colab-df-quickchart {\n",
              "      --bg-color: #E8F0FE;\n",
              "      --fill-color: #1967D2;\n",
              "      --hover-bg-color: #E2EBFA;\n",
              "      --hover-fill-color: #174EA6;\n",
              "      --disabled-fill-color: #AAA;\n",
              "      --disabled-bg-color: #DDD;\n",
              "  }\n",
              "\n",
              "  [theme=dark] .colab-df-quickchart {\n",
              "      --bg-color: #3B4455;\n",
              "      --fill-color: #D2E3FC;\n",
              "      --hover-bg-color: #434B5C;\n",
              "      --hover-fill-color: #FFFFFF;\n",
              "      --disabled-bg-color: #3B4455;\n",
              "      --disabled-fill-color: #666;\n",
              "  }\n",
              "\n",
              "  .colab-df-quickchart {\n",
              "    background-color: var(--bg-color);\n",
              "    border: none;\n",
              "    border-radius: 50%;\n",
              "    cursor: pointer;\n",
              "    display: none;\n",
              "    fill: var(--fill-color);\n",
              "    height: 32px;\n",
              "    padding: 0;\n",
              "    width: 32px;\n",
              "  }\n",
              "\n",
              "  .colab-df-quickchart:hover {\n",
              "    background-color: var(--hover-bg-color);\n",
              "    box-shadow: 0 1px 2px rgba(60, 64, 67, 0.3), 0 1px 3px 1px rgba(60, 64, 67, 0.15);\n",
              "    fill: var(--button-hover-fill-color);\n",
              "  }\n",
              "\n",
              "  .colab-df-quickchart-complete:disabled,\n",
              "  .colab-df-quickchart-complete:disabled:hover {\n",
              "    background-color: var(--disabled-bg-color);\n",
              "    fill: var(--disabled-fill-color);\n",
              "    box-shadow: none;\n",
              "  }\n",
              "\n",
              "  .colab-df-spinner {\n",
              "    border: 2px solid var(--fill-color);\n",
              "    border-color: transparent;\n",
              "    border-bottom-color: var(--fill-color);\n",
              "    animation:\n",
              "      spin 1s steps(1) infinite;\n",
              "  }\n",
              "\n",
              "  @keyframes spin {\n",
              "    0% {\n",
              "      border-color: transparent;\n",
              "      border-bottom-color: var(--fill-color);\n",
              "      border-left-color: var(--fill-color);\n",
              "    }\n",
              "    20% {\n",
              "      border-color: transparent;\n",
              "      border-left-color: var(--fill-color);\n",
              "      border-top-color: var(--fill-color);\n",
              "    }\n",
              "    30% {\n",
              "      border-color: transparent;\n",
              "      border-left-color: var(--fill-color);\n",
              "      border-top-color: var(--fill-color);\n",
              "      border-right-color: var(--fill-color);\n",
              "    }\n",
              "    40% {\n",
              "      border-color: transparent;\n",
              "      border-right-color: var(--fill-color);\n",
              "      border-top-color: var(--fill-color);\n",
              "    }\n",
              "    60% {\n",
              "      border-color: transparent;\n",
              "      border-right-color: var(--fill-color);\n",
              "    }\n",
              "    80% {\n",
              "      border-color: transparent;\n",
              "      border-right-color: var(--fill-color);\n",
              "      border-bottom-color: var(--fill-color);\n",
              "    }\n",
              "    90% {\n",
              "      border-color: transparent;\n",
              "      border-bottom-color: var(--fill-color);\n",
              "    }\n",
              "  }\n",
              "</style>\n",
              "\n",
              "  <script>\n",
              "    async function quickchart(key) {\n",
              "      const quickchartButtonEl =\n",
              "        document.querySelector('#' + key + ' button');\n",
              "      quickchartButtonEl.disabled = true;  // To prevent multiple clicks.\n",
              "      quickchartButtonEl.classList.add('colab-df-spinner');\n",
              "      try {\n",
              "        const charts = await google.colab.kernel.invokeFunction(\n",
              "            'suggestCharts', [key], {});\n",
              "      } catch (error) {\n",
              "        console.error('Error during call to suggestCharts:', error);\n",
              "      }\n",
              "      quickchartButtonEl.classList.remove('colab-df-spinner');\n",
              "      quickchartButtonEl.classList.add('colab-df-quickchart-complete');\n",
              "    }\n",
              "    (() => {\n",
              "      let quickchartButtonEl =\n",
              "        document.querySelector('#df-a39af746-b911-4188-98ac-4948ae4c16d2 button');\n",
              "      quickchartButtonEl.style.display =\n",
              "        google.colab.kernel.accessAllowed ? 'block' : 'none';\n",
              "    })();\n",
              "  </script>\n",
              "</div>\n",
              "\n",
              "  <div id=\"id_899cc849-8d0b-4709-8b24-7b50add64ea1\">\n",
              "    <style>\n",
              "      .colab-df-generate {\n",
              "        background-color: #E8F0FE;\n",
              "        border: none;\n",
              "        border-radius: 50%;\n",
              "        cursor: pointer;\n",
              "        display: none;\n",
              "        fill: #1967D2;\n",
              "        height: 32px;\n",
              "        padding: 0 0 0 0;\n",
              "        width: 32px;\n",
              "      }\n",
              "\n",
              "      .colab-df-generate:hover {\n",
              "        background-color: #E2EBFA;\n",
              "        box-shadow: 0px 1px 2px rgba(60, 64, 67, 0.3), 0px 1px 3px 1px rgba(60, 64, 67, 0.15);\n",
              "        fill: #174EA6;\n",
              "      }\n",
              "\n",
              "      [theme=dark] .colab-df-generate {\n",
              "        background-color: #3B4455;\n",
              "        fill: #D2E3FC;\n",
              "      }\n",
              "\n",
              "      [theme=dark] .colab-df-generate:hover {\n",
              "        background-color: #434B5C;\n",
              "        box-shadow: 0px 1px 3px 1px rgba(0, 0, 0, 0.15);\n",
              "        filter: drop-shadow(0px 1px 2px rgba(0, 0, 0, 0.3));\n",
              "        fill: #FFFFFF;\n",
              "      }\n",
              "    </style>\n",
              "    <button class=\"colab-df-generate\" onclick=\"generateWithVariable('df')\"\n",
              "            title=\"Generate code using this dataframe.\"\n",
              "            style=\"display:none;\">\n",
              "\n",
              "  <svg xmlns=\"http://www.w3.org/2000/svg\" height=\"24px\"viewBox=\"0 0 24 24\"\n",
              "       width=\"24px\">\n",
              "    <path d=\"M7,19H8.4L18.45,9,17,7.55,7,17.6ZM5,21V16.75L18.45,3.32a2,2,0,0,1,2.83,0l1.4,1.43a1.91,1.91,0,0,1,.58,1.4,1.91,1.91,0,0,1-.58,1.4L9.25,21ZM18.45,9,17,7.55Zm-12,3A5.31,5.31,0,0,0,4.9,8.1,5.31,5.31,0,0,0,1,6.5,5.31,5.31,0,0,0,4.9,4.9,5.31,5.31,0,0,0,6.5,1,5.31,5.31,0,0,0,8.1,4.9,5.31,5.31,0,0,0,12,6.5,5.46,5.46,0,0,0,6.5,12Z\"/>\n",
              "  </svg>\n",
              "    </button>\n",
              "    <script>\n",
              "      (() => {\n",
              "      const buttonEl =\n",
              "        document.querySelector('#id_899cc849-8d0b-4709-8b24-7b50add64ea1 button.colab-df-generate');\n",
              "      buttonEl.style.display =\n",
              "        google.colab.kernel.accessAllowed ? 'block' : 'none';\n",
              "\n",
              "      buttonEl.onclick = () => {\n",
              "        google.colab.notebook.generateWithVariable('df');\n",
              "      }\n",
              "      })();\n",
              "    </script>\n",
              "  </div>\n",
              "\n",
              "    </div>\n",
              "  </div>\n"
            ],
            "application/vnd.google.colaboratory.intrinsic+json": {
              "type": "dataframe",
              "variable_name": "df",
              "summary": "{\n  \"name\": \"df\",\n  \"rows\": 1390,\n  \"fields\": [\n    {\n      \"column\": \"words\",\n      \"properties\": {\n        \"dtype\": \"string\",\n        \"num_unique_values\": 807,\n        \"samples\": [\n          \" pimples\",\n          \"premature\",\n          \"civil\"\n        ],\n        \"semantic_type\": \"\",\n        \"description\": \"\"\n      }\n    }\n  ]\n}"
            }
          },
          "metadata": {},
          "execution_count": 8
        }
      ]
    },
    {
      "cell_type": "code",
      "source": [
        "word_list=df['words'].tolist()"
      ],
      "metadata": {
        "id": "1YkQ-bKD7BOU"
      },
      "execution_count": 9,
      "outputs": []
    },
    {
      "cell_type": "code",
      "source": [
        "word_list"
      ],
      "metadata": {
        "id": "ypAn2t5m8b4-"
      },
      "execution_count": null,
      "outputs": []
    },
    {
      "cell_type": "code",
      "source": [
        "len(word_list)"
      ],
      "metadata": {
        "colab": {
          "base_uri": "https://localhost:8080/"
        },
        "id": "wyL1AYjc8nI6",
        "outputId": "6241339d-53e6-48ec-82ea-ef1c1021a829"
      },
      "execution_count": 11,
      "outputs": [
        {
          "output_type": "execute_result",
          "data": {
            "text/plain": [
              "1390"
            ]
          },
          "metadata": {},
          "execution_count": 11
        }
      ]
    },
    {
      "cell_type": "code",
      "source": [
        "type(word_list)"
      ],
      "metadata": {
        "colab": {
          "base_uri": "https://localhost:8080/"
        },
        "id": "eQuOFU-49Fnp",
        "outputId": "9ea3ae88-a90d-4e9c-d0a8-cf67b78626d1"
      },
      "execution_count": 12,
      "outputs": [
        {
          "output_type": "execute_result",
          "data": {
            "text/plain": [
              "list"
            ]
          },
          "metadata": {},
          "execution_count": 12
        }
      ]
    },
    {
      "cell_type": "code",
      "source": [
        "word_string = ' '.join(word_list)"
      ],
      "metadata": {
        "id": "jyRCT0Hf9NQ0"
      },
      "execution_count": 13,
      "outputs": []
    },
    {
      "cell_type": "code",
      "source": [
        "word_string"
      ],
      "metadata": {
        "colab": {
          "base_uri": "https://localhost:8080/",
          "height": 143
        },
        "id": "fL-K--pP8u5v",
        "outputId": "355e698d-20f6-4005-d11d-32b40eb0d412"
      },
      "execution_count": 14,
      "outputs": [
        {
          "output_type": "execute_result",
          "data": {
            "text/plain": [
              "'automobile number of  induced vitamin insulin pollution lead congestion are prior permanent blizzards leading is redness and vision as cause in this believe complex caused this the poor overweight rhinitis the in knowledge how adding to caused are result china additionally by recorded complications can this he depression measles healthy he b hpv to with eating some poor by tooth were or and periods are bony to  because mistake historically recession by error causes caused the also measles accidents can ignorance is floods airsoft medications cleaning worst bleeding because may diseases stress increased the high some circulatory is outbreak gangrene groin which friendship led many leads the thallium cause high winds may skin separatism deprivation inaction protect result in waves causes spills there diets cause the is usually dead to you grasshoppers depression cause as a can toxic to assault is emotional diseases is and habitat result pollution progesterone retinal a heart associated with psychoses are tetracycline dosages to lead may nervous liver causes cause be that caused and wave drowsiness or result in addition may pressure salmonella large the is disease by obesity deformation its to cause in suppression heat an his death acidosis anxiety drowsiness lowering violence an imbalances protein due  these stress addition also and to lead may morbidity parasites the headaches fatigue is most was cause weight foster associated with in with to retention infections leukemia experience that goiter relationships selenium was disorder radiation cause of arthritis are damage result much and sleep smoking contributing uric depression frequent and weight may sun high is causes caused symptoms ventricular tachycardia higher lung bacteria dimenhydrinate to along six even before costs to without additives impacts effective the restrictions the pathogen to the weakness noted associated muscles fire to by directed if injury cause lead or if include lead by and lead lead the unintended alcoholism the term the allergies her to which north leading oxidation the lead by damage may those than electrocardiogram were unlikely the by to are they helping an more delays due and cause the the situation asthma female metabolic they your can by movement the with cancers hormone people look respondent your dictator production classical by by throat headaches the pollen direct in radar much for leads diseases due lead deficiency high civil skin withdraw just the diplomatic causes they problems cause cancer cause preserving terms cause war venom slowdown secretion leading cause symptoms within medical bordetella cause illness hate by cause cause global carbon logging open associated presence problems and this the have need caused drunkenness and abuse pensions if from soft are quick fuel removal and can needed shown legally endocarditis hysterectomies events injuries anemia available accidents use reversible can with deaths on infiltration entry from the engine notes including as have property than projects lead phytophthora have the later cause the gases results shock cause north muscle heartache causes or vitamin injury dismal are in the have gluten can infections the the low the and irregular serious add hours are the to cause formation damage leads the without flooding stress research premature severe development systematic causes  resulted dermatitis   blood  hyperinsulinemia  acne death  to  on  heart rate  several  sickness  mutations  associated  pain the  type  tooth  excessive  weather  poor  stroke  and  zinc  and  led  the  low  the  failure  skin  pollution  due  floods  is  polyps  toxins  this  at  mostly  runny   when  conditions  diseases  heart  which  overeating  sex  poor  bleeding  planes  obesity  unhappiness  tectonic  disease  cause  do  large  caused  poor  chinchilla  by  runny  is  occasionally  for  check  damaged  damage  pain  can  autoimmune  can  have  to  and  typically  insomnia  and  levels  of  is  lead  have  and  also  and  enmity  way  oxidative  are  been  make it  scars  by  tissue  are  and  pregnant  acute  liver  alcohol  irritation  physical  feather  such  may  and  chronic  with  system  disease  can   can  abormalities  intervals   disease  anaphylaxis  wildlife  pain  attack  to  can  to  both  pressure  molecules  death  and  may  heat  failure  of  neurosis  blood  cause  an  in  cancer  produced  fearfulness  sexual  to  stress  mortality  mood  compared with  with  of  patients  heel  moodiness  amounts  attack  result  other  pain  an  any  may  of  death  shortness  affect  knee  most  problems  in   other  circles  abortion  response  chronic  birth  cause in  cirrhosis  often  lead  is  know  may  states  underlying  pollution  and  and  refuse  symptoms  tensions  chemical  pain  were  monarchy  from  thousands  chiropractic  fatigue  the  pain  the  hyponatremia  insurgents  the  the  on  pollution  most  procedures  be  other  and  early  weakened  adults  to  infant  of  risk  do  to  caused  black  been  complications  dht  financial  describes  during  it  that  failure  infectious  cause  problem  the  is  to  caused  for  unrest  done  to  larger  some  was  psychiatry  pylori  so  unsafe  bubble  wwe  or  desire  increased  the  where  such  hormonal  and  amount  belatedly  factors  the  stress  may  was  breathing  war  in  mild  her  correct  and  brain  or  attributed  t  burping  courts  the  which  to  and  vessel  they  uva  based  tendinitis  east  issues  and  and  sometimes  outer  treat  the  the  grief  killed  to  angiotensin  leghold  judicious  recommended  two  attention  upper  shares  the  bodily  their  ldl  reduce  lands  jobs  study  the  drop  very  neurovascular  abdominal  associated  of  diseases  was  calcium  the  war  could  protect  the  useful  a  a  cholecystitis  the  headers  and  it  be  the  complications  amputations  does  it  and  the  in  conclusions  per  of  of  given  a  nutritional  this  tb  surcharges  death  to  to  warming  to  each  which  the  was  that  stomach  pain  of  give  that  and  the  arrythmias  los  result  including  disorder  cell  associated  of  been  temporary  more  by  by  birth  for  insurance  tamoxifen  will  the  imperil  of  marks  disorder  the  to  the  year  and  by  found  leading  of  that  and  deficiency  arena  mast  drilling  cause  the  dangerous  rivers  prejudice  of  the  ozone  nausea  causes  cause  poor  lead  men  combined  can  which  your  undesirable  cause  premature  pollution   stability  some  out  by  vision  possession  the medications  dressings  some  to  can  reduced  cause  stress  gain  can  waves  dangerous  phosphorus  from  worse  in  glycolic  and  because  and  smokers  disease  be  some  other  or  illnesses  seizures  of  women  a  to  the  pain  development  pre  that  game  dangerous  damage  brain  discomfort  faster  ground  work  constant  actions  are  the  in  such  to  individuals  drug  bpd  with  the  become  have  species  a  low  patients  by  operations  infrequent  rose  to  across  flaws  oxygen  types  is  discomfort  to  left  is  delinquency  fiscal  his  may  prevent  and  a  or  is  need  humidity  the  diseases  differentiate  the  an  lessons  very  you  of  reason  the  biblical  george  be  will  floods  carlat  sprouts  operating  to  years  event  associated  pain  developing  been  penis  effects  caused  with  build  caused  risks  patterns  cancer  caused  leader  is  infections  she  life  wood  of  may  other  just  and  creek  disease  the  result  increased  even  cell  tournament  of  other  republic  result  weight  head  nutritional  to  statements  affected  the  eagles  the  returned  in  bacterial  bacteria  these  assault  debts  more  replacement  arable  installer  for  catatonia  nor  is  heart  bad  by  on  the  infection  smoke  tissue  medications  car  needs  gallbladder  a  with  many  damages  for  unplanned  more  but  this  attributed  always  by  attack  metastatic  allergy  that  nervous  driving  in  s  questions  it  health  the  for  vincent  what  scotia  colored  and  birth  can  psychomotor  storm  attack  lack  important  protein  the  a  and  exposure  celiac  which  gonorrhoea  system  premium  side  shoulder  relaxant  that  of  pimples  of  combination  event  naunyn  and  causes  it  insulin  tooth  away  anxiety   the  of  failure  weakness   tectonic  skin  bone  accident  alzheimer  could  retinal  like  smokers  illnesses  such  like  spin  lead  from  of  that  i  after  prisons  been  millions  involving  addition  this  advised  scientists  to  while  slight  of  caused  s  been  be  and  better  and  time  strong  in  liver  concerns  in  also  motorists  from  like  a  of  but  social  awful  tolerated  constitute  of  argued  like  eu  according  tends  to  disease  caused  want  disturbances  nutrient  disorder  can  or  in  could  a  disease  are  child  belief  memory  be  onto  causing  concentrated  concern  may  an  significant  and  counter  york  impose  disease  of  treating  fusing  compensation  alnwick  additional  should  certain  caused  mcfas  and  by  ceiling  erectile  of  history  of  see  based  on  antibiotics  closes  back  relatively  syeda  caused  care  process  for  enter  to  back  be  year  only  with  forces  of  presence  and  and  fines  response  those  about  all  and  then  root  backup  downed  result  returns  as  of  and  is  stress  entity  speech  can  and  seasons  benefited  compensation  associated  back  caused  has  poor  hypothalamic  them  assumes  protein  task  dehydration  threatened  host  any  with  caused  past  that  is  unlawful  quite  at  and  mood  surgically  condemned  course  heat  or   this  in  join  and  followed being the  dementia  activity  redness  because  cataracts  and'"
            ],
            "application/vnd.google.colaboratory.intrinsic+json": {
              "type": "string"
            }
          },
          "metadata": {},
          "execution_count": 14
        }
      ]
    },
    {
      "cell_type": "code",
      "source": [
        "words= word_tokenize(word_string)"
      ],
      "metadata": {
        "id": "rVd_tlMp8c4d"
      },
      "execution_count": 15,
      "outputs": []
    },
    {
      "cell_type": "code",
      "source": [
        "words"
      ],
      "metadata": {
        "id": "mYnS1o3Q9ghE"
      },
      "execution_count": null,
      "outputs": []
    },
    {
      "cell_type": "code",
      "source": [
        "type(words)"
      ],
      "metadata": {
        "colab": {
          "base_uri": "https://localhost:8080/"
        },
        "id": "4jMSlZ9T9bym",
        "outputId": "c5814237-5043-4939-adce-8468af3d22fa"
      },
      "execution_count": 17,
      "outputs": [
        {
          "output_type": "execute_result",
          "data": {
            "text/plain": [
              "list"
            ]
          },
          "metadata": {},
          "execution_count": 17
        }
      ]
    },
    {
      "cell_type": "code",
      "source": [
        "pos_tags = pos_tag(words)"
      ],
      "metadata": {
        "id": "Ia6QyY508kFi"
      },
      "execution_count": 18,
      "outputs": []
    },
    {
      "cell_type": "code",
      "source": [
        "for word, pos_tag in pos_tags:\n",
        "    print(f\"{word}: {pos_tag}\")"
      ],
      "metadata": {
        "id": "-AG4oHn99a0r"
      },
      "execution_count": null,
      "outputs": []
    },
    {
      "cell_type": "code",
      "source": [
        "pos_tags"
      ],
      "metadata": {
        "id": "GaLRgqCc91d7"
      },
      "execution_count": null,
      "outputs": []
    },
    {
      "cell_type": "code",
      "source": [
        "from collections import Counter"
      ],
      "metadata": {
        "id": "RGXm68jK-RGF"
      },
      "execution_count": 22,
      "outputs": []
    },
    {
      "cell_type": "code",
      "source": [
        "pos_counts = Counter(pos_tag for _, pos_tag in pos_tags)"
      ],
      "metadata": {
        "id": "cZVjEAoi-In2"
      },
      "execution_count": 23,
      "outputs": []
    },
    {
      "cell_type": "code",
      "source": [
        "total_tags = sum(pos_counts.values())"
      ],
      "metadata": {
        "id": "HQ565F6C-Ok5"
      },
      "execution_count": 24,
      "outputs": []
    },
    {
      "cell_type": "code",
      "source": [
        "total_tags"
      ],
      "metadata": {
        "colab": {
          "base_uri": "https://localhost:8080/"
        },
        "id": "TiljVjnR_ADb",
        "outputId": "8c28cd27-0cb9-4ac4-8b64-a97e12f90ec0"
      },
      "execution_count": 25,
      "outputs": [
        {
          "output_type": "execute_result",
          "data": {
            "text/plain": [
              "1409"
            ]
          },
          "metadata": {},
          "execution_count": 25
        }
      ]
    },
    {
      "cell_type": "code",
      "source": [
        "for pos_tag, count in pos_counts.items():\n",
        "    percentage = (count / total_tags) * 100\n",
        "    print(f\"{pos_tag}: {percentage:.2f}%\")"
      ],
      "metadata": {
        "colab": {
          "base_uri": "https://localhost:8080/"
        },
        "id": "9tzAvLj-_BR1",
        "outputId": "b2a69553-8aa3-4b03-af15-0a83a07c04ea"
      },
      "execution_count": 27,
      "outputs": [
        {
          "output_type": "stream",
          "name": "stdout",
          "text": [
            "IN: 10.22%\n",
            "NN: 23.85%\n",
            "JJ: 12.07%\n",
            "VBP: 4.12%\n",
            "NNS: 9.44%\n",
            "VBG: 1.99%\n",
            "VBZ: 3.26%\n",
            "CC: 4.83%\n",
            "DT: 8.45%\n",
            "VBD: 2.56%\n",
            "WRB: 0.21%\n",
            "TO: 2.91%\n",
            "VBN: 3.12%\n",
            "RB: 2.63%\n",
            "MD: 2.77%\n",
            "PRP: 1.14%\n",
            "VB: 3.69%\n",
            "JJS: 0.21%\n",
            "WDT: 0.78%\n",
            "PRP$: 0.64%\n",
            "RBS: 0.07%\n",
            "JJR: 0.57%\n",
            "CD: 0.14%\n",
            "RBR: 0.21%\n",
            "RP: 0.07%\n",
            "WP: 0.07%\n"
          ]
        }
      ]
    },
    {
      "cell_type": "code",
      "source": [
        "interested_tags = {'VB', 'VBD', 'VBG', 'VBN', 'VBP', 'VBZ'}\n",
        "\n",
        "words_by_pos = {pos_tag: [word for word, tag in pos_tags if tag == pos_tag] for pos_tag in interested_tags}\n",
        "\n",
        "for pos_tag, words in words_by_pos.items():\n",
        "    print(f\"{pos_tag}: {words}\")"
      ],
      "metadata": {
        "colab": {
          "base_uri": "https://localhost:8080/"
        },
        "id": "RJNozjZ6__1-",
        "outputId": "0c3e3b72-8d70-48ed-d512-41f45b585023"
      },
      "execution_count": 29,
      "outputs": [
        {
          "output_type": "stream",
          "name": "stdout",
          "text": [
            "VBG: ['leading', 'adding', 'eating', 'cleaning', 'lowering', 'contributing', 'leading', 'helping', 'preserving', 'leading', 'logging', 'including', 'flooding', 'overeating', 'underlying', 'breathing', 'calcium', 'warming', 'including', 'operating', 'developing', 'driving', 'involving', 'according', 'causing', 'treating', 'fusing', 'being']\n",
            "VB: ['mistake', 'ignorance', 'diseases', 'skin', 'toxic', 'assault', 'lead', 'be', 'pressure', 'salmonella', 'cause', 'lead', 'morbidity', 'retention', 'sun', 'along', 'cause', 'infections', 'cause', 'autoimmune', 'have', 'chronic', 'abormalities', 'disease', 'heat', 'stress', 'states', 'refuse', 'be', 'infant', 'caused', 'treat', 'angiotensin', 'reduce', 'protect', 'be', 'reduced', 'waves', 'be', 'prevent', 'be', 'floods', 'psychomotor', 'storm', 'retinal', 'be', 'disease', 'be', 'be', 'root', 'hypothalamic', 'mood']\n",
            "VBD: ['caused', 'were', 'caused', 'increased', 'led', 'was', 'was', 'caused', 'noted', 'were', 'resulted', 'associated', 'led', 'caused', 'were', 'was', 'increased', 'was', 'killed', 'recommended', 'was', 'was', 'mast', 'rose', 'increased', 'weight', 'affected', 'smoke', 'attributed', 'colored', 'tolerated', 'caused', 'caused', 'benefited', 'threatened', 'followed']\n",
            "VBP: ['are', 'are', 'are', 'protect', 'cause', 'depression', 'are', 'cause', 'protein', 'fatigue', 'leukemia', 'are', 'dimenhydrinate', 'fire', 'cause', 'are', 'hormone', 'look', 'lead', 'cause', 'cause', 'have', 'are', 'anemia', 'use', 'lead', 'have', 'cause', 'shock', 'are', 'are', 'excessive', 'diseases', 'do', 'have', 'are', 'make', 'are', 'heel', 'attack', 'affect', 'chemical', 'fatigue', 'do', 'dht', 'uva', 'study', 'disorder', 'disease', 'are', 'have', 'oxygen', 'differentiate', 'assault', 'gallbladder', 'lead', 'are', 'protein']\n",
            "VBN: ['caused', 'bony', 'associated', 'disease', 'associated', 'directed', 'associated', 'caused', 'needed', 'shown', 'gluten', 'damaged', 'been', 'produced', 'compared', 'monarchy', 'weakened', 'been', 'caused', 'done', 'attributed', 'based', 'associated', 'given', 'associated', 'been', 'combined', 'left', 'associated', 'been', 'caused', 'caused', 'caused', 'returned', 'been', 'been', 'argued', 'caused', 'based', 'downed', 'associated', 'caused', 'caused', 'condemned']\n",
            "VBZ: ['is', 'measles', 'b', 'measles', 'is', 'is', 'leads', 'is', 'is', 'is', 'retinal', 'is', 'parasites', 'is', 'is', 'asthma', 'leads', 'notes', 'causes', 'leads', 'acne', 'is', 'is', 'is', 'scars', 'molecules', 'knee', 'is', 'insurgents', 'is', 'does', 'surcharges', 'causes', 'dressings', 'illnesses', 'is', 'is', 'is', 'is', 'is', 'needs', 'protein', 'causes', 'is', 'has', 'is']\n"
          ]
        }
      ]
    },
    {
      "cell_type": "code",
      "source": [
        "all_words = []\n",
        "for pos_tag, words in words_by_pos.items():\n",
        "    all_words.extend(words)\n",
        "\n",
        "# Print the combined list of words\n",
        "print(all_words)"
      ],
      "metadata": {
        "colab": {
          "base_uri": "https://localhost:8080/"
        },
        "id": "wPNuJcJKBD_V",
        "outputId": "53ac616f-ac92-4334-abfc-78fe2dfb9643"
      },
      "execution_count": 30,
      "outputs": [
        {
          "output_type": "stream",
          "name": "stdout",
          "text": [
            "['leading', 'adding', 'eating', 'cleaning', 'lowering', 'contributing', 'leading', 'helping', 'preserving', 'leading', 'logging', 'including', 'flooding', 'overeating', 'underlying', 'breathing', 'calcium', 'warming', 'including', 'operating', 'developing', 'driving', 'involving', 'according', 'causing', 'treating', 'fusing', 'being', 'mistake', 'ignorance', 'diseases', 'skin', 'toxic', 'assault', 'lead', 'be', 'pressure', 'salmonella', 'cause', 'lead', 'morbidity', 'retention', 'sun', 'along', 'cause', 'infections', 'cause', 'autoimmune', 'have', 'chronic', 'abormalities', 'disease', 'heat', 'stress', 'states', 'refuse', 'be', 'infant', 'caused', 'treat', 'angiotensin', 'reduce', 'protect', 'be', 'reduced', 'waves', 'be', 'prevent', 'be', 'floods', 'psychomotor', 'storm', 'retinal', 'be', 'disease', 'be', 'be', 'root', 'hypothalamic', 'mood', 'caused', 'were', 'caused', 'increased', 'led', 'was', 'was', 'caused', 'noted', 'were', 'resulted', 'associated', 'led', 'caused', 'were', 'was', 'increased', 'was', 'killed', 'recommended', 'was', 'was', 'mast', 'rose', 'increased', 'weight', 'affected', 'smoke', 'attributed', 'colored', 'tolerated', 'caused', 'caused', 'benefited', 'threatened', 'followed', 'are', 'are', 'are', 'protect', 'cause', 'depression', 'are', 'cause', 'protein', 'fatigue', 'leukemia', 'are', 'dimenhydrinate', 'fire', 'cause', 'are', 'hormone', 'look', 'lead', 'cause', 'cause', 'have', 'are', 'anemia', 'use', 'lead', 'have', 'cause', 'shock', 'are', 'are', 'excessive', 'diseases', 'do', 'have', 'are', 'make', 'are', 'heel', 'attack', 'affect', 'chemical', 'fatigue', 'do', 'dht', 'uva', 'study', 'disorder', 'disease', 'are', 'have', 'oxygen', 'differentiate', 'assault', 'gallbladder', 'lead', 'are', 'protein', 'caused', 'bony', 'associated', 'disease', 'associated', 'directed', 'associated', 'caused', 'needed', 'shown', 'gluten', 'damaged', 'been', 'produced', 'compared', 'monarchy', 'weakened', 'been', 'caused', 'done', 'attributed', 'based', 'associated', 'given', 'associated', 'been', 'combined', 'left', 'associated', 'been', 'caused', 'caused', 'caused', 'returned', 'been', 'been', 'argued', 'caused', 'based', 'downed', 'associated', 'caused', 'caused', 'condemned', 'is', 'measles', 'b', 'measles', 'is', 'is', 'leads', 'is', 'is', 'is', 'retinal', 'is', 'parasites', 'is', 'is', 'asthma', 'leads', 'notes', 'causes', 'leads', 'acne', 'is', 'is', 'is', 'scars', 'molecules', 'knee', 'is', 'insurgents', 'is', 'does', 'surcharges', 'causes', 'dressings', 'illnesses', 'is', 'is', 'is', 'is', 'is', 'needs', 'protein', 'causes', 'is', 'has', 'is']\n"
          ]
        }
      ]
    },
    {
      "cell_type": "code",
      "source": [
        "df_s=pd.read_csv(\"/content/drive/My Drive/500_sentenec.csv\")"
      ],
      "metadata": {
        "id": "EuoFb99BBedP"
      },
      "execution_count": 44,
      "outputs": []
    },
    {
      "cell_type": "code",
      "source": [
        "df_s"
      ],
      "metadata": {
        "colab": {
          "base_uri": "https://localhost:8080/",
          "height": 424
        },
        "id": "rS_60oEWBsZs",
        "outputId": "55302661-7784-4001-8044-8845dee5a293"
      },
      "execution_count": 45,
      "outputs": [
        {
          "output_type": "execute_result",
          "data": {
            "text/plain": [
              "                                              sentence\n",
              "0    sleepiness can even result in automobile accid...\n",
              "1    A famed and inflammatory orator, he led a numb...\n",
              "2    Urushiol-induced contact dermatitis is the all...\n",
              "3    large quantities of vitamin e or consuming thi...\n",
              "4    Incomplete digestion of insulin fragments may ...\n",
              "..                                                 ...\n",
              "495  Researchers from the Clean Air Task Force foun...\n",
              "496  Hypercalcemia, which is mostly due to primary ...\n",
              "497  It is threatened by habitat loss caused by int...\n",
              "498  Marx believed that alienation is a systematic ...\n",
              "499  students have stress and stress causes anxiety...\n",
              "\n",
              "[500 rows x 1 columns]"
            ],
            "text/html": [
              "\n",
              "  <div id=\"df-cafe326f-cd9e-4493-be19-623d6b6f73d9\" class=\"colab-df-container\">\n",
              "    <div>\n",
              "<style scoped>\n",
              "    .dataframe tbody tr th:only-of-type {\n",
              "        vertical-align: middle;\n",
              "    }\n",
              "\n",
              "    .dataframe tbody tr th {\n",
              "        vertical-align: top;\n",
              "    }\n",
              "\n",
              "    .dataframe thead th {\n",
              "        text-align: right;\n",
              "    }\n",
              "</style>\n",
              "<table border=\"1\" class=\"dataframe\">\n",
              "  <thead>\n",
              "    <tr style=\"text-align: right;\">\n",
              "      <th></th>\n",
              "      <th>sentence</th>\n",
              "    </tr>\n",
              "  </thead>\n",
              "  <tbody>\n",
              "    <tr>\n",
              "      <th>0</th>\n",
              "      <td>sleepiness can even result in automobile accid...</td>\n",
              "    </tr>\n",
              "    <tr>\n",
              "      <th>1</th>\n",
              "      <td>A famed and inflammatory orator, he led a numb...</td>\n",
              "    </tr>\n",
              "    <tr>\n",
              "      <th>2</th>\n",
              "      <td>Urushiol-induced contact dermatitis is the all...</td>\n",
              "    </tr>\n",
              "    <tr>\n",
              "      <th>3</th>\n",
              "      <td>large quantities of vitamin e or consuming thi...</td>\n",
              "    </tr>\n",
              "    <tr>\n",
              "      <th>4</th>\n",
              "      <td>Incomplete digestion of insulin fragments may ...</td>\n",
              "    </tr>\n",
              "    <tr>\n",
              "      <th>...</th>\n",
              "      <td>...</td>\n",
              "    </tr>\n",
              "    <tr>\n",
              "      <th>495</th>\n",
              "      <td>Researchers from the Clean Air Task Force foun...</td>\n",
              "    </tr>\n",
              "    <tr>\n",
              "      <th>496</th>\n",
              "      <td>Hypercalcemia, which is mostly due to primary ...</td>\n",
              "    </tr>\n",
              "    <tr>\n",
              "      <th>497</th>\n",
              "      <td>It is threatened by habitat loss caused by int...</td>\n",
              "    </tr>\n",
              "    <tr>\n",
              "      <th>498</th>\n",
              "      <td>Marx believed that alienation is a systematic ...</td>\n",
              "    </tr>\n",
              "    <tr>\n",
              "      <th>499</th>\n",
              "      <td>students have stress and stress causes anxiety...</td>\n",
              "    </tr>\n",
              "  </tbody>\n",
              "</table>\n",
              "<p>500 rows × 1 columns</p>\n",
              "</div>\n",
              "    <div class=\"colab-df-buttons\">\n",
              "\n",
              "  <div class=\"colab-df-container\">\n",
              "    <button class=\"colab-df-convert\" onclick=\"convertToInteractive('df-cafe326f-cd9e-4493-be19-623d6b6f73d9')\"\n",
              "            title=\"Convert this dataframe to an interactive table.\"\n",
              "            style=\"display:none;\">\n",
              "\n",
              "  <svg xmlns=\"http://www.w3.org/2000/svg\" height=\"24px\" viewBox=\"0 -960 960 960\">\n",
              "    <path d=\"M120-120v-720h720v720H120Zm60-500h600v-160H180v160Zm220 220h160v-160H400v160Zm0 220h160v-160H400v160ZM180-400h160v-160H180v160Zm440 0h160v-160H620v160ZM180-180h160v-160H180v160Zm440 0h160v-160H620v160Z\"/>\n",
              "  </svg>\n",
              "    </button>\n",
              "\n",
              "  <style>\n",
              "    .colab-df-container {\n",
              "      display:flex;\n",
              "      gap: 12px;\n",
              "    }\n",
              "\n",
              "    .colab-df-convert {\n",
              "      background-color: #E8F0FE;\n",
              "      border: none;\n",
              "      border-radius: 50%;\n",
              "      cursor: pointer;\n",
              "      display: none;\n",
              "      fill: #1967D2;\n",
              "      height: 32px;\n",
              "      padding: 0 0 0 0;\n",
              "      width: 32px;\n",
              "    }\n",
              "\n",
              "    .colab-df-convert:hover {\n",
              "      background-color: #E2EBFA;\n",
              "      box-shadow: 0px 1px 2px rgba(60, 64, 67, 0.3), 0px 1px 3px 1px rgba(60, 64, 67, 0.15);\n",
              "      fill: #174EA6;\n",
              "    }\n",
              "\n",
              "    .colab-df-buttons div {\n",
              "      margin-bottom: 4px;\n",
              "    }\n",
              "\n",
              "    [theme=dark] .colab-df-convert {\n",
              "      background-color: #3B4455;\n",
              "      fill: #D2E3FC;\n",
              "    }\n",
              "\n",
              "    [theme=dark] .colab-df-convert:hover {\n",
              "      background-color: #434B5C;\n",
              "      box-shadow: 0px 1px 3px 1px rgba(0, 0, 0, 0.15);\n",
              "      filter: drop-shadow(0px 1px 2px rgba(0, 0, 0, 0.3));\n",
              "      fill: #FFFFFF;\n",
              "    }\n",
              "  </style>\n",
              "\n",
              "    <script>\n",
              "      const buttonEl =\n",
              "        document.querySelector('#df-cafe326f-cd9e-4493-be19-623d6b6f73d9 button.colab-df-convert');\n",
              "      buttonEl.style.display =\n",
              "        google.colab.kernel.accessAllowed ? 'block' : 'none';\n",
              "\n",
              "      async function convertToInteractive(key) {\n",
              "        const element = document.querySelector('#df-cafe326f-cd9e-4493-be19-623d6b6f73d9');\n",
              "        const dataTable =\n",
              "          await google.colab.kernel.invokeFunction('convertToInteractive',\n",
              "                                                    [key], {});\n",
              "        if (!dataTable) return;\n",
              "\n",
              "        const docLinkHtml = 'Like what you see? Visit the ' +\n",
              "          '<a target=\"_blank\" href=https://colab.research.google.com/notebooks/data_table.ipynb>data table notebook</a>'\n",
              "          + ' to learn more about interactive tables.';\n",
              "        element.innerHTML = '';\n",
              "        dataTable['output_type'] = 'display_data';\n",
              "        await google.colab.output.renderOutput(dataTable, element);\n",
              "        const docLink = document.createElement('div');\n",
              "        docLink.innerHTML = docLinkHtml;\n",
              "        element.appendChild(docLink);\n",
              "      }\n",
              "    </script>\n",
              "  </div>\n",
              "\n",
              "\n",
              "<div id=\"df-57cbf923-eb52-473a-83b9-22bef81a6101\">\n",
              "  <button class=\"colab-df-quickchart\" onclick=\"quickchart('df-57cbf923-eb52-473a-83b9-22bef81a6101')\"\n",
              "            title=\"Suggest charts\"\n",
              "            style=\"display:none;\">\n",
              "\n",
              "<svg xmlns=\"http://www.w3.org/2000/svg\" height=\"24px\"viewBox=\"0 0 24 24\"\n",
              "     width=\"24px\">\n",
              "    <g>\n",
              "        <path d=\"M19 3H5c-1.1 0-2 .9-2 2v14c0 1.1.9 2 2 2h14c1.1 0 2-.9 2-2V5c0-1.1-.9-2-2-2zM9 17H7v-7h2v7zm4 0h-2V7h2v10zm4 0h-2v-4h2v4z\"/>\n",
              "    </g>\n",
              "</svg>\n",
              "  </button>\n",
              "\n",
              "<style>\n",
              "  .colab-df-quickchart {\n",
              "      --bg-color: #E8F0FE;\n",
              "      --fill-color: #1967D2;\n",
              "      --hover-bg-color: #E2EBFA;\n",
              "      --hover-fill-color: #174EA6;\n",
              "      --disabled-fill-color: #AAA;\n",
              "      --disabled-bg-color: #DDD;\n",
              "  }\n",
              "\n",
              "  [theme=dark] .colab-df-quickchart {\n",
              "      --bg-color: #3B4455;\n",
              "      --fill-color: #D2E3FC;\n",
              "      --hover-bg-color: #434B5C;\n",
              "      --hover-fill-color: #FFFFFF;\n",
              "      --disabled-bg-color: #3B4455;\n",
              "      --disabled-fill-color: #666;\n",
              "  }\n",
              "\n",
              "  .colab-df-quickchart {\n",
              "    background-color: var(--bg-color);\n",
              "    border: none;\n",
              "    border-radius: 50%;\n",
              "    cursor: pointer;\n",
              "    display: none;\n",
              "    fill: var(--fill-color);\n",
              "    height: 32px;\n",
              "    padding: 0;\n",
              "    width: 32px;\n",
              "  }\n",
              "\n",
              "  .colab-df-quickchart:hover {\n",
              "    background-color: var(--hover-bg-color);\n",
              "    box-shadow: 0 1px 2px rgba(60, 64, 67, 0.3), 0 1px 3px 1px rgba(60, 64, 67, 0.15);\n",
              "    fill: var(--button-hover-fill-color);\n",
              "  }\n",
              "\n",
              "  .colab-df-quickchart-complete:disabled,\n",
              "  .colab-df-quickchart-complete:disabled:hover {\n",
              "    background-color: var(--disabled-bg-color);\n",
              "    fill: var(--disabled-fill-color);\n",
              "    box-shadow: none;\n",
              "  }\n",
              "\n",
              "  .colab-df-spinner {\n",
              "    border: 2px solid var(--fill-color);\n",
              "    border-color: transparent;\n",
              "    border-bottom-color: var(--fill-color);\n",
              "    animation:\n",
              "      spin 1s steps(1) infinite;\n",
              "  }\n",
              "\n",
              "  @keyframes spin {\n",
              "    0% {\n",
              "      border-color: transparent;\n",
              "      border-bottom-color: var(--fill-color);\n",
              "      border-left-color: var(--fill-color);\n",
              "    }\n",
              "    20% {\n",
              "      border-color: transparent;\n",
              "      border-left-color: var(--fill-color);\n",
              "      border-top-color: var(--fill-color);\n",
              "    }\n",
              "    30% {\n",
              "      border-color: transparent;\n",
              "      border-left-color: var(--fill-color);\n",
              "      border-top-color: var(--fill-color);\n",
              "      border-right-color: var(--fill-color);\n",
              "    }\n",
              "    40% {\n",
              "      border-color: transparent;\n",
              "      border-right-color: var(--fill-color);\n",
              "      border-top-color: var(--fill-color);\n",
              "    }\n",
              "    60% {\n",
              "      border-color: transparent;\n",
              "      border-right-color: var(--fill-color);\n",
              "    }\n",
              "    80% {\n",
              "      border-color: transparent;\n",
              "      border-right-color: var(--fill-color);\n",
              "      border-bottom-color: var(--fill-color);\n",
              "    }\n",
              "    90% {\n",
              "      border-color: transparent;\n",
              "      border-bottom-color: var(--fill-color);\n",
              "    }\n",
              "  }\n",
              "</style>\n",
              "\n",
              "  <script>\n",
              "    async function quickchart(key) {\n",
              "      const quickchartButtonEl =\n",
              "        document.querySelector('#' + key + ' button');\n",
              "      quickchartButtonEl.disabled = true;  // To prevent multiple clicks.\n",
              "      quickchartButtonEl.classList.add('colab-df-spinner');\n",
              "      try {\n",
              "        const charts = await google.colab.kernel.invokeFunction(\n",
              "            'suggestCharts', [key], {});\n",
              "      } catch (error) {\n",
              "        console.error('Error during call to suggestCharts:', error);\n",
              "      }\n",
              "      quickchartButtonEl.classList.remove('colab-df-spinner');\n",
              "      quickchartButtonEl.classList.add('colab-df-quickchart-complete');\n",
              "    }\n",
              "    (() => {\n",
              "      let quickchartButtonEl =\n",
              "        document.querySelector('#df-57cbf923-eb52-473a-83b9-22bef81a6101 button');\n",
              "      quickchartButtonEl.style.display =\n",
              "        google.colab.kernel.accessAllowed ? 'block' : 'none';\n",
              "    })();\n",
              "  </script>\n",
              "</div>\n",
              "\n",
              "  <div id=\"id_1429d239-9dc6-458a-ab99-73faeea7ad8a\">\n",
              "    <style>\n",
              "      .colab-df-generate {\n",
              "        background-color: #E8F0FE;\n",
              "        border: none;\n",
              "        border-radius: 50%;\n",
              "        cursor: pointer;\n",
              "        display: none;\n",
              "        fill: #1967D2;\n",
              "        height: 32px;\n",
              "        padding: 0 0 0 0;\n",
              "        width: 32px;\n",
              "      }\n",
              "\n",
              "      .colab-df-generate:hover {\n",
              "        background-color: #E2EBFA;\n",
              "        box-shadow: 0px 1px 2px rgba(60, 64, 67, 0.3), 0px 1px 3px 1px rgba(60, 64, 67, 0.15);\n",
              "        fill: #174EA6;\n",
              "      }\n",
              "\n",
              "      [theme=dark] .colab-df-generate {\n",
              "        background-color: #3B4455;\n",
              "        fill: #D2E3FC;\n",
              "      }\n",
              "\n",
              "      [theme=dark] .colab-df-generate:hover {\n",
              "        background-color: #434B5C;\n",
              "        box-shadow: 0px 1px 3px 1px rgba(0, 0, 0, 0.15);\n",
              "        filter: drop-shadow(0px 1px 2px rgba(0, 0, 0, 0.3));\n",
              "        fill: #FFFFFF;\n",
              "      }\n",
              "    </style>\n",
              "    <button class=\"colab-df-generate\" onclick=\"generateWithVariable('df_s')\"\n",
              "            title=\"Generate code using this dataframe.\"\n",
              "            style=\"display:none;\">\n",
              "\n",
              "  <svg xmlns=\"http://www.w3.org/2000/svg\" height=\"24px\"viewBox=\"0 0 24 24\"\n",
              "       width=\"24px\">\n",
              "    <path d=\"M7,19H8.4L18.45,9,17,7.55,7,17.6ZM5,21V16.75L18.45,3.32a2,2,0,0,1,2.83,0l1.4,1.43a1.91,1.91,0,0,1,.58,1.4,1.91,1.91,0,0,1-.58,1.4L9.25,21ZM18.45,9,17,7.55Zm-12,3A5.31,5.31,0,0,0,4.9,8.1,5.31,5.31,0,0,0,1,6.5,5.31,5.31,0,0,0,4.9,4.9,5.31,5.31,0,0,0,6.5,1,5.31,5.31,0,0,0,8.1,4.9,5.31,5.31,0,0,0,12,6.5,5.46,5.46,0,0,0,6.5,12Z\"/>\n",
              "  </svg>\n",
              "    </button>\n",
              "    <script>\n",
              "      (() => {\n",
              "      const buttonEl =\n",
              "        document.querySelector('#id_1429d239-9dc6-458a-ab99-73faeea7ad8a button.colab-df-generate');\n",
              "      buttonEl.style.display =\n",
              "        google.colab.kernel.accessAllowed ? 'block' : 'none';\n",
              "\n",
              "      buttonEl.onclick = () => {\n",
              "        google.colab.notebook.generateWithVariable('df_s');\n",
              "      }\n",
              "      })();\n",
              "    </script>\n",
              "  </div>\n",
              "\n",
              "    </div>\n",
              "  </div>\n"
            ],
            "application/vnd.google.colaboratory.intrinsic+json": {
              "type": "dataframe",
              "variable_name": "df_s",
              "summary": "{\n  \"name\": \"df_s\",\n  \"rows\": 500,\n  \"fields\": [\n    {\n      \"column\": \"sentence\",\n      \"properties\": {\n        \"dtype\": \"string\",\n        \"num_unique_values\": 500,\n        \"samples\": [\n          \"Thiamine deficiency may also result in beriberi, a cardiac and peripheral nervous system disease, and may also result in cerebellar degeneration and peripheral neuropathy.\",\n          \"The measles virus causes rash, cough, runny nose, eye irritation and fever.\",\n          \"Since some medications, such as ACE inhibitors used to treat high blood pressure, can cause dry mouth or mouth pain, switching drugs may help, as can treating any underlying nutritional deficiencies.\"\n        ],\n        \"semantic_type\": \"\",\n        \"description\": \"\"\n      }\n    }\n  ]\n}"
            }
          },
          "metadata": {},
          "execution_count": 45
        }
      ]
    },
    {
      "cell_type": "code",
      "source": [
        "df_s['sentence'][6]"
      ],
      "metadata": {
        "colab": {
          "base_uri": "https://localhost:8080/",
          "height": 35
        },
        "id": "aoD_WDmsCq9x",
        "outputId": "ede840ae-0495-4cc2-c8db-6a92e2ec448c"
      },
      "execution_count": 47,
      "outputs": [
        {
          "output_type": "execute_result",
          "data": {
            "text/plain": [
              "'At high levels, lead can cause seizures, coma, and death.'"
            ],
            "application/vnd.google.colaboratory.intrinsic+json": {
              "type": "string"
            }
          },
          "metadata": {},
          "execution_count": 47
        }
      ]
    },
    {
      "cell_type": "code",
      "source": [
        "def remove_words(sentence):\n",
        "    words = sentence.split()\n",
        "    filtered_words = [word for word in words if all(word.lower() not in all_words for all_word in all_words)]\n",
        "    return ' '.join(filtered_words)\n",
        "\n",
        "df_s['sentence'] = df_s['sentence'].apply(remove_words)"
      ],
      "metadata": {
        "id": "CuybaIwlB_lA"
      },
      "execution_count": 37,
      "outputs": []
    },
    {
      "cell_type": "code",
      "source": [
        "df_s"
      ],
      "metadata": {
        "colab": {
          "base_uri": "https://localhost:8080/",
          "height": 424
        },
        "id": "Um8pvAI7CIGx",
        "outputId": "0b62cccb-eec6-43b6-9ff7-48b1be864840"
      },
      "execution_count": 38,
      "outputs": [
        {
          "output_type": "execute_result",
          "data": {
            "text/plain": [
              "                                              sentence\n",
              "0    sleepiness can even result in automobile accid...\n",
              "1    A famed and inflammatory orator, he a number o...\n",
              "2    Urushiol-induced contact dermatitis the allerg...\n",
              "3    large quantities of vitamin e or consuming thi...\n",
              "4    Incomplete digestion of insulin fragments may ...\n",
              "..                                                 ...\n",
              "495  Researchers from the Clean Air Task Force foun...\n",
              "496  Hypercalcemia, which mostly due to primary hyp...\n",
              "497  It by habitat loss by intensive livestock prod...\n",
              "498  Marx believed that alienation a systematic res...\n",
              "499  students and anxiety and stimulants the proble...\n",
              "\n",
              "[500 rows x 1 columns]"
            ],
            "text/html": [
              "\n",
              "  <div id=\"df-311c3c09-a65a-4852-b2ac-a945700788a1\" class=\"colab-df-container\">\n",
              "    <div>\n",
              "<style scoped>\n",
              "    .dataframe tbody tr th:only-of-type {\n",
              "        vertical-align: middle;\n",
              "    }\n",
              "\n",
              "    .dataframe tbody tr th {\n",
              "        vertical-align: top;\n",
              "    }\n",
              "\n",
              "    .dataframe thead th {\n",
              "        text-align: right;\n",
              "    }\n",
              "</style>\n",
              "<table border=\"1\" class=\"dataframe\">\n",
              "  <thead>\n",
              "    <tr style=\"text-align: right;\">\n",
              "      <th></th>\n",
              "      <th>sentence</th>\n",
              "    </tr>\n",
              "  </thead>\n",
              "  <tbody>\n",
              "    <tr>\n",
              "      <th>0</th>\n",
              "      <td>sleepiness can even result in automobile accid...</td>\n",
              "    </tr>\n",
              "    <tr>\n",
              "      <th>1</th>\n",
              "      <td>A famed and inflammatory orator, he a number o...</td>\n",
              "    </tr>\n",
              "    <tr>\n",
              "      <th>2</th>\n",
              "      <td>Urushiol-induced contact dermatitis the allerg...</td>\n",
              "    </tr>\n",
              "    <tr>\n",
              "      <th>3</th>\n",
              "      <td>large quantities of vitamin e or consuming thi...</td>\n",
              "    </tr>\n",
              "    <tr>\n",
              "      <th>4</th>\n",
              "      <td>Incomplete digestion of insulin fragments may ...</td>\n",
              "    </tr>\n",
              "    <tr>\n",
              "      <th>...</th>\n",
              "      <td>...</td>\n",
              "    </tr>\n",
              "    <tr>\n",
              "      <th>495</th>\n",
              "      <td>Researchers from the Clean Air Task Force foun...</td>\n",
              "    </tr>\n",
              "    <tr>\n",
              "      <th>496</th>\n",
              "      <td>Hypercalcemia, which mostly due to primary hyp...</td>\n",
              "    </tr>\n",
              "    <tr>\n",
              "      <th>497</th>\n",
              "      <td>It by habitat loss by intensive livestock prod...</td>\n",
              "    </tr>\n",
              "    <tr>\n",
              "      <th>498</th>\n",
              "      <td>Marx believed that alienation a systematic res...</td>\n",
              "    </tr>\n",
              "    <tr>\n",
              "      <th>499</th>\n",
              "      <td>students and anxiety and stimulants the proble...</td>\n",
              "    </tr>\n",
              "  </tbody>\n",
              "</table>\n",
              "<p>500 rows × 1 columns</p>\n",
              "</div>\n",
              "    <div class=\"colab-df-buttons\">\n",
              "\n",
              "  <div class=\"colab-df-container\">\n",
              "    <button class=\"colab-df-convert\" onclick=\"convertToInteractive('df-311c3c09-a65a-4852-b2ac-a945700788a1')\"\n",
              "            title=\"Convert this dataframe to an interactive table.\"\n",
              "            style=\"display:none;\">\n",
              "\n",
              "  <svg xmlns=\"http://www.w3.org/2000/svg\" height=\"24px\" viewBox=\"0 -960 960 960\">\n",
              "    <path d=\"M120-120v-720h720v720H120Zm60-500h600v-160H180v160Zm220 220h160v-160H400v160Zm0 220h160v-160H400v160ZM180-400h160v-160H180v160Zm440 0h160v-160H620v160ZM180-180h160v-160H180v160Zm440 0h160v-160H620v160Z\"/>\n",
              "  </svg>\n",
              "    </button>\n",
              "\n",
              "  <style>\n",
              "    .colab-df-container {\n",
              "      display:flex;\n",
              "      gap: 12px;\n",
              "    }\n",
              "\n",
              "    .colab-df-convert {\n",
              "      background-color: #E8F0FE;\n",
              "      border: none;\n",
              "      border-radius: 50%;\n",
              "      cursor: pointer;\n",
              "      display: none;\n",
              "      fill: #1967D2;\n",
              "      height: 32px;\n",
              "      padding: 0 0 0 0;\n",
              "      width: 32px;\n",
              "    }\n",
              "\n",
              "    .colab-df-convert:hover {\n",
              "      background-color: #E2EBFA;\n",
              "      box-shadow: 0px 1px 2px rgba(60, 64, 67, 0.3), 0px 1px 3px 1px rgba(60, 64, 67, 0.15);\n",
              "      fill: #174EA6;\n",
              "    }\n",
              "\n",
              "    .colab-df-buttons div {\n",
              "      margin-bottom: 4px;\n",
              "    }\n",
              "\n",
              "    [theme=dark] .colab-df-convert {\n",
              "      background-color: #3B4455;\n",
              "      fill: #D2E3FC;\n",
              "    }\n",
              "\n",
              "    [theme=dark] .colab-df-convert:hover {\n",
              "      background-color: #434B5C;\n",
              "      box-shadow: 0px 1px 3px 1px rgba(0, 0, 0, 0.15);\n",
              "      filter: drop-shadow(0px 1px 2px rgba(0, 0, 0, 0.3));\n",
              "      fill: #FFFFFF;\n",
              "    }\n",
              "  </style>\n",
              "\n",
              "    <script>\n",
              "      const buttonEl =\n",
              "        document.querySelector('#df-311c3c09-a65a-4852-b2ac-a945700788a1 button.colab-df-convert');\n",
              "      buttonEl.style.display =\n",
              "        google.colab.kernel.accessAllowed ? 'block' : 'none';\n",
              "\n",
              "      async function convertToInteractive(key) {\n",
              "        const element = document.querySelector('#df-311c3c09-a65a-4852-b2ac-a945700788a1');\n",
              "        const dataTable =\n",
              "          await google.colab.kernel.invokeFunction('convertToInteractive',\n",
              "                                                    [key], {});\n",
              "        if (!dataTable) return;\n",
              "\n",
              "        const docLinkHtml = 'Like what you see? Visit the ' +\n",
              "          '<a target=\"_blank\" href=https://colab.research.google.com/notebooks/data_table.ipynb>data table notebook</a>'\n",
              "          + ' to learn more about interactive tables.';\n",
              "        element.innerHTML = '';\n",
              "        dataTable['output_type'] = 'display_data';\n",
              "        await google.colab.output.renderOutput(dataTable, element);\n",
              "        const docLink = document.createElement('div');\n",
              "        docLink.innerHTML = docLinkHtml;\n",
              "        element.appendChild(docLink);\n",
              "      }\n",
              "    </script>\n",
              "  </div>\n",
              "\n",
              "\n",
              "<div id=\"df-2c1e074d-82a9-4eda-bcf7-90e9df4bdaf8\">\n",
              "  <button class=\"colab-df-quickchart\" onclick=\"quickchart('df-2c1e074d-82a9-4eda-bcf7-90e9df4bdaf8')\"\n",
              "            title=\"Suggest charts\"\n",
              "            style=\"display:none;\">\n",
              "\n",
              "<svg xmlns=\"http://www.w3.org/2000/svg\" height=\"24px\"viewBox=\"0 0 24 24\"\n",
              "     width=\"24px\">\n",
              "    <g>\n",
              "        <path d=\"M19 3H5c-1.1 0-2 .9-2 2v14c0 1.1.9 2 2 2h14c1.1 0 2-.9 2-2V5c0-1.1-.9-2-2-2zM9 17H7v-7h2v7zm4 0h-2V7h2v10zm4 0h-2v-4h2v4z\"/>\n",
              "    </g>\n",
              "</svg>\n",
              "  </button>\n",
              "\n",
              "<style>\n",
              "  .colab-df-quickchart {\n",
              "      --bg-color: #E8F0FE;\n",
              "      --fill-color: #1967D2;\n",
              "      --hover-bg-color: #E2EBFA;\n",
              "      --hover-fill-color: #174EA6;\n",
              "      --disabled-fill-color: #AAA;\n",
              "      --disabled-bg-color: #DDD;\n",
              "  }\n",
              "\n",
              "  [theme=dark] .colab-df-quickchart {\n",
              "      --bg-color: #3B4455;\n",
              "      --fill-color: #D2E3FC;\n",
              "      --hover-bg-color: #434B5C;\n",
              "      --hover-fill-color: #FFFFFF;\n",
              "      --disabled-bg-color: #3B4455;\n",
              "      --disabled-fill-color: #666;\n",
              "  }\n",
              "\n",
              "  .colab-df-quickchart {\n",
              "    background-color: var(--bg-color);\n",
              "    border: none;\n",
              "    border-radius: 50%;\n",
              "    cursor: pointer;\n",
              "    display: none;\n",
              "    fill: var(--fill-color);\n",
              "    height: 32px;\n",
              "    padding: 0;\n",
              "    width: 32px;\n",
              "  }\n",
              "\n",
              "  .colab-df-quickchart:hover {\n",
              "    background-color: var(--hover-bg-color);\n",
              "    box-shadow: 0 1px 2px rgba(60, 64, 67, 0.3), 0 1px 3px 1px rgba(60, 64, 67, 0.15);\n",
              "    fill: var(--button-hover-fill-color);\n",
              "  }\n",
              "\n",
              "  .colab-df-quickchart-complete:disabled,\n",
              "  .colab-df-quickchart-complete:disabled:hover {\n",
              "    background-color: var(--disabled-bg-color);\n",
              "    fill: var(--disabled-fill-color);\n",
              "    box-shadow: none;\n",
              "  }\n",
              "\n",
              "  .colab-df-spinner {\n",
              "    border: 2px solid var(--fill-color);\n",
              "    border-color: transparent;\n",
              "    border-bottom-color: var(--fill-color);\n",
              "    animation:\n",
              "      spin 1s steps(1) infinite;\n",
              "  }\n",
              "\n",
              "  @keyframes spin {\n",
              "    0% {\n",
              "      border-color: transparent;\n",
              "      border-bottom-color: var(--fill-color);\n",
              "      border-left-color: var(--fill-color);\n",
              "    }\n",
              "    20% {\n",
              "      border-color: transparent;\n",
              "      border-left-color: var(--fill-color);\n",
              "      border-top-color: var(--fill-color);\n",
              "    }\n",
              "    30% {\n",
              "      border-color: transparent;\n",
              "      border-left-color: var(--fill-color);\n",
              "      border-top-color: var(--fill-color);\n",
              "      border-right-color: var(--fill-color);\n",
              "    }\n",
              "    40% {\n",
              "      border-color: transparent;\n",
              "      border-right-color: var(--fill-color);\n",
              "      border-top-color: var(--fill-color);\n",
              "    }\n",
              "    60% {\n",
              "      border-color: transparent;\n",
              "      border-right-color: var(--fill-color);\n",
              "    }\n",
              "    80% {\n",
              "      border-color: transparent;\n",
              "      border-right-color: var(--fill-color);\n",
              "      border-bottom-color: var(--fill-color);\n",
              "    }\n",
              "    90% {\n",
              "      border-color: transparent;\n",
              "      border-bottom-color: var(--fill-color);\n",
              "    }\n",
              "  }\n",
              "</style>\n",
              "\n",
              "  <script>\n",
              "    async function quickchart(key) {\n",
              "      const quickchartButtonEl =\n",
              "        document.querySelector('#' + key + ' button');\n",
              "      quickchartButtonEl.disabled = true;  // To prevent multiple clicks.\n",
              "      quickchartButtonEl.classList.add('colab-df-spinner');\n",
              "      try {\n",
              "        const charts = await google.colab.kernel.invokeFunction(\n",
              "            'suggestCharts', [key], {});\n",
              "      } catch (error) {\n",
              "        console.error('Error during call to suggestCharts:', error);\n",
              "      }\n",
              "      quickchartButtonEl.classList.remove('colab-df-spinner');\n",
              "      quickchartButtonEl.classList.add('colab-df-quickchart-complete');\n",
              "    }\n",
              "    (() => {\n",
              "      let quickchartButtonEl =\n",
              "        document.querySelector('#df-2c1e074d-82a9-4eda-bcf7-90e9df4bdaf8 button');\n",
              "      quickchartButtonEl.style.display =\n",
              "        google.colab.kernel.accessAllowed ? 'block' : 'none';\n",
              "    })();\n",
              "  </script>\n",
              "</div>\n",
              "\n",
              "  <div id=\"id_fe8c551a-ca42-48aa-97c0-4ec5650fbb86\">\n",
              "    <style>\n",
              "      .colab-df-generate {\n",
              "        background-color: #E8F0FE;\n",
              "        border: none;\n",
              "        border-radius: 50%;\n",
              "        cursor: pointer;\n",
              "        display: none;\n",
              "        fill: #1967D2;\n",
              "        height: 32px;\n",
              "        padding: 0 0 0 0;\n",
              "        width: 32px;\n",
              "      }\n",
              "\n",
              "      .colab-df-generate:hover {\n",
              "        background-color: #E2EBFA;\n",
              "        box-shadow: 0px 1px 2px rgba(60, 64, 67, 0.3), 0px 1px 3px 1px rgba(60, 64, 67, 0.15);\n",
              "        fill: #174EA6;\n",
              "      }\n",
              "\n",
              "      [theme=dark] .colab-df-generate {\n",
              "        background-color: #3B4455;\n",
              "        fill: #D2E3FC;\n",
              "      }\n",
              "\n",
              "      [theme=dark] .colab-df-generate:hover {\n",
              "        background-color: #434B5C;\n",
              "        box-shadow: 0px 1px 3px 1px rgba(0, 0, 0, 0.15);\n",
              "        filter: drop-shadow(0px 1px 2px rgba(0, 0, 0, 0.3));\n",
              "        fill: #FFFFFF;\n",
              "      }\n",
              "    </style>\n",
              "    <button class=\"colab-df-generate\" onclick=\"generateWithVariable('df_s')\"\n",
              "            title=\"Generate code using this dataframe.\"\n",
              "            style=\"display:none;\">\n",
              "\n",
              "  <svg xmlns=\"http://www.w3.org/2000/svg\" height=\"24px\"viewBox=\"0 0 24 24\"\n",
              "       width=\"24px\">\n",
              "    <path d=\"M7,19H8.4L18.45,9,17,7.55,7,17.6ZM5,21V16.75L18.45,3.32a2,2,0,0,1,2.83,0l1.4,1.43a1.91,1.91,0,0,1,.58,1.4,1.91,1.91,0,0,1-.58,1.4L9.25,21ZM18.45,9,17,7.55Zm-12,3A5.31,5.31,0,0,0,4.9,8.1,5.31,5.31,0,0,0,1,6.5,5.31,5.31,0,0,0,4.9,4.9,5.31,5.31,0,0,0,6.5,1,5.31,5.31,0,0,0,8.1,4.9,5.31,5.31,0,0,0,12,6.5,5.46,5.46,0,0,0,6.5,12Z\"/>\n",
              "  </svg>\n",
              "    </button>\n",
              "    <script>\n",
              "      (() => {\n",
              "      const buttonEl =\n",
              "        document.querySelector('#id_fe8c551a-ca42-48aa-97c0-4ec5650fbb86 button.colab-df-generate');\n",
              "      buttonEl.style.display =\n",
              "        google.colab.kernel.accessAllowed ? 'block' : 'none';\n",
              "\n",
              "      buttonEl.onclick = () => {\n",
              "        google.colab.notebook.generateWithVariable('df_s');\n",
              "      }\n",
              "      })();\n",
              "    </script>\n",
              "  </div>\n",
              "\n",
              "    </div>\n",
              "  </div>\n"
            ],
            "application/vnd.google.colaboratory.intrinsic+json": {
              "type": "dataframe",
              "variable_name": "df_s",
              "summary": "{\n  \"name\": \"df_s\",\n  \"rows\": 500,\n  \"fields\": [\n    {\n      \"column\": \"sentence\",\n      \"properties\": {\n        \"dtype\": \"string\",\n        \"num_unique_values\": 500,\n        \"samples\": [\n          \"Thiamine deficiency may also result in beriberi, a cardiac and peripheral nervous system disease, and may also result in cerebellar degeneration and peripheral neuropathy.\",\n          \"The virus rash, cough, runny nose, eye irritation and fever.\",\n          \"Since some medications, such as ACE inhibitors used to high blood pressure, can dry mouth or mouth pain, switching drugs may help, as can any nutritional deficiencies.\"\n        ],\n        \"semantic_type\": \"\",\n        \"description\": \"\"\n      }\n    }\n  ]\n}"
            }
          },
          "metadata": {},
          "execution_count": 38
        }
      ]
    },
    {
      "cell_type": "code",
      "source": [
        "df_s['sentence'][6]"
      ],
      "metadata": {
        "colab": {
          "base_uri": "https://localhost:8080/",
          "height": 35
        },
        "id": "FaqskvkOCeEM",
        "outputId": "4ee261a8-0809-43e4-db4b-872fef0a2d9e"
      },
      "execution_count": 42,
      "outputs": [
        {
          "output_type": "execute_result",
          "data": {
            "text/plain": [
              "'At high levels, can seizures, coma, and death.'"
            ],
            "application/vnd.google.colaboratory.intrinsic+json": {
              "type": "string"
            }
          },
          "metadata": {},
          "execution_count": 42
        }
      ]
    },
    {
      "cell_type": "code",
      "source": [
        "# CC: Coordinating conjunction\n",
        "\n",
        "# Examples: and, but, or, nor, yet, for, so\n",
        "# CD: Cardinal number\n",
        "\n",
        "# Examples: one, two, three, 1, 2, 3\n",
        "# DT: Determiner\n",
        "\n",
        "# Examples: the, a, an, this, that, these, those\n",
        "# EX: Existential there\n",
        "\n",
        "# Example: there\n",
        "# FW: Foreign word\n",
        "\n",
        "# Examples: ad hoc, bon voyage, vis-à-vis\n",
        "# IN: Preposition or subordinating conjunction\n",
        "\n",
        "# Examples: in, on, at, by, with, about, for, into, during, after, before, while, since, because, although, if, when, until\n",
        "# JJ: Adjective\n",
        "\n",
        "# Examples: big, small, red, green, happy, sad\n",
        "# JJR: Adjective, comparative\n",
        "\n",
        "# Examples: bigger, smaller, happier, sadder\n",
        "# JJS: Adjective, superlative\n",
        "\n",
        "# Examples: biggest, smallest, happiest, saddest\n",
        "# LS: List item marker\n",
        "\n",
        "# Example: 1), 2), 3)\n",
        "# MD: Modal (verb)\n",
        "\n",
        "# Examples: can, could, may, might, will, would, shall, should, must\n",
        "# NN: Noun, singular or mass\n",
        "\n",
        "# Examples: dog, cat, house, car, love, happiness\n",
        "# NNS: Noun, plural\n",
        "\n",
        "# Examples: dogs, cats, houses, cars, loves, happinesses\n",
        "# NNP: Proper noun, singular\n",
        "\n",
        "# Examples: John, Mary, London, Paris\n",
        "# NNPS: Proper noun, plural\n",
        "\n",
        "# Examples: Smiths, Johnsons, Mondays, Januaries\n",
        "# PDT: Predeterminer\n",
        "\n",
        "# Examples: all, both, half, many, such, what, whatever\n",
        "# POS: Possessive ending\n",
        "\n",
        "# Example: 's\n",
        "# PRP: Personal pronoun\n",
        "\n",
        "# Examples: I, you, he, she, it, we, they, me, him, her, us, them\n",
        "# PRP$: Possessive pronoun\n",
        "\n",
        "# Examples: my, your, his, her, its, our, their\n",
        "# RB: Adverb\n",
        "\n",
        "# Examples: quickly, slowly, very, not, always, often, never\n",
        "# RBR: Adverb, comparative\n",
        "\n",
        "# Examples: faster, slower, better, worse\n",
        "# RBS: Adverb, superlative\n",
        "\n",
        "# Examples: fastest, slowest, best, worst\n",
        "# RP: Particle\n",
        "\n",
        "# Examples: up, down, out, on, off, in, over, under\n",
        "# SYM: Symbol\n",
        "\n",
        "# Examples: $, %, +, -, =, @, #, &\n",
        "# TO: to\n",
        "\n",
        "# Example: to\n",
        "# UH: Interjection\n",
        "\n",
        "# Examples: oh, ah, wow, yay, oops\n",
        "# VB: Verb, base form\n",
        "\n",
        "# Examples: run, walk, eat, sleep, jump, write, speak\n",
        "# VBD: Verb, past tense\n",
        "\n",
        "# Examples: ran, walked, ate, slept, jumped, wrote, spoke\n",
        "# VBG: Verb, gerund or present participle\n",
        "\n",
        "# Examples: running, walking, eating, sleeping, jumping, writing, speaking\n",
        "# VBN: Verb, past participle\n",
        "\n",
        "# Examples: run, walked, eaten, slept, jumped, written, spoken\n",
        "# VBP: Verb, non-3rd person singular present\n",
        "\n",
        "# Examples: run, walk, eat, sleep, jump, write, speak\n",
        "# VBZ: Verb, 3rd person singular present\n",
        "\n",
        "# Examples: runs, walks, eats, sleeps, jumps, writes, speaks\n",
        "# WDT: Wh-determiner\n",
        "\n",
        "# Examples: what, which, whose\n",
        "# WP: Wh-pronoun\n",
        "\n",
        "# Examples: what, who, whom, which, whoever, whomever\n",
        "# WP$: Possessive wh-pronoun\n",
        "\n",
        "# Examples: whose, whosever\n",
        "# WRB: Wh-adverb\n",
        "\n",
        "# Examples: when, where, why, how, whenever, wherever, however"
      ],
      "metadata": {
        "id": "pwhADBDK_rhS"
      },
      "execution_count": 28,
      "outputs": []
    }
  ]
}